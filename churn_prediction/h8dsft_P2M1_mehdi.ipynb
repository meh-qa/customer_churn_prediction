{
  "cells": [
    {
      "cell_type": "markdown",
      "metadata": {
        "id": "xsYKL7lWmfXr"
      },
      "source": [
        "# Perkenalan"
      ]
    },
    {
      "cell_type": "markdown",
      "metadata": {
        "id": "7FGElOG_miEr"
      },
      "source": [
        "Nama : Mehdi Mursalat Ismail\n",
        "\n",
        "Batch : FTDS-020-RMT\n",
        "\n",
        "Dataset : Churn.csv\n",
        "\n",
        "Objective : Memprediksi customer yang akan berhenti (churn) dari dataset yang diberikan."
      ]
    },
    {
      "cell_type": "markdown",
      "metadata": {
        "id": "T5ov8qr_m2sn"
      },
      "source": [
        "# Import Libraries"
      ]
    },
    {
      "cell_type": "code",
      "execution_count": 186,
      "metadata": {
        "id": "J6jA7U8BPm3P"
      },
      "outputs": [],
      "source": [
        "# Import Libraries\n",
        "\n",
        "import pandas as pd\n",
        "import numpy as np\n",
        "import pickle\n",
        "import tensorflow as tf\n",
        "import seaborn as sns\n",
        "\n",
        "\n",
        "from sklearn.model_selection import train_test_split\n",
        "from sklearn.pipeline import make_pipeline\n",
        "from sklearn.compose import ColumnTransformer\n",
        "from sklearn.impute import SimpleImputer\n",
        "from sklearn.preprocessing import StandardScaler, OrdinalEncoder\n",
        "from tensorflow.keras.models import load_model\n",
        "from tensorflow.keras.models import Sequential\n",
        "from tensorflow.keras.layers import Dense\n",
        "from sklearn.metrics import classification_report\n",
        "from tensorflow.keras.layers import Input, concatenate\n",
        "from tensorflow.keras import Model\n"
      ]
    },
    {
      "cell_type": "markdown",
      "metadata": {
        "id": "NSl-ZB5onalA"
      },
      "source": [
        "# Data Loading"
      ]
    },
    {
      "cell_type": "code",
      "execution_count": 187,
      "metadata": {
        "colab": {
          "base_uri": "https://localhost:8080/",
          "height": 572
        },
        "id": "6GQOP4YTncZb",
        "outputId": "f796ae04-9016-4c2b-982a-b13c4a9225d5"
      },
      "outputs": [
        {
          "data": {
            "text/html": [
              "<div>\n",
              "<style scoped>\n",
              "    .dataframe tbody tr th:only-of-type {\n",
              "        vertical-align: middle;\n",
              "    }\n",
              "\n",
              "    .dataframe tbody tr th {\n",
              "        vertical-align: top;\n",
              "    }\n",
              "\n",
              "    .dataframe thead th {\n",
              "        text-align: right;\n",
              "    }\n",
              "</style>\n",
              "<table border=\"1\" class=\"dataframe\">\n",
              "  <thead>\n",
              "    <tr style=\"text-align: right;\">\n",
              "      <th></th>\n",
              "      <th>user_id</th>\n",
              "      <th>age</th>\n",
              "      <th>gender</th>\n",
              "      <th>region_category</th>\n",
              "      <th>membership_category</th>\n",
              "      <th>joining_date</th>\n",
              "      <th>joined_through_referral</th>\n",
              "      <th>preferred_offer_types</th>\n",
              "      <th>medium_of_operation</th>\n",
              "      <th>internet_option</th>\n",
              "      <th>...</th>\n",
              "      <th>avg_time_spent</th>\n",
              "      <th>avg_transaction_value</th>\n",
              "      <th>avg_frequency_login_days</th>\n",
              "      <th>points_in_wallet</th>\n",
              "      <th>used_special_discount</th>\n",
              "      <th>offer_application_preference</th>\n",
              "      <th>past_complaint</th>\n",
              "      <th>complaint_status</th>\n",
              "      <th>feedback</th>\n",
              "      <th>churn_risk_score</th>\n",
              "    </tr>\n",
              "  </thead>\n",
              "  <tbody>\n",
              "    <tr>\n",
              "      <th>0</th>\n",
              "      <td>9f420209e7d129f3</td>\n",
              "      <td>29</td>\n",
              "      <td>F</td>\n",
              "      <td>NaN</td>\n",
              "      <td>No Membership</td>\n",
              "      <td>2017-04-05</td>\n",
              "      <td>Yes</td>\n",
              "      <td>Without Offers</td>\n",
              "      <td>NaN</td>\n",
              "      <td>Wi-Fi</td>\n",
              "      <td>...</td>\n",
              "      <td>1184.490000</td>\n",
              "      <td>38604.69</td>\n",
              "      <td>10.0</td>\n",
              "      <td>627.48</td>\n",
              "      <td>Yes</td>\n",
              "      <td>Yes</td>\n",
              "      <td>Yes</td>\n",
              "      <td>No Information Available</td>\n",
              "      <td>Poor Website</td>\n",
              "      <td>1</td>\n",
              "    </tr>\n",
              "    <tr>\n",
              "      <th>1</th>\n",
              "      <td>ac6e97806267549e</td>\n",
              "      <td>50</td>\n",
              "      <td>M</td>\n",
              "      <td>NaN</td>\n",
              "      <td>Basic Membership</td>\n",
              "      <td>2017-03-31</td>\n",
              "      <td>Yes</td>\n",
              "      <td>Without Offers</td>\n",
              "      <td>Desktop</td>\n",
              "      <td>Fiber_Optic</td>\n",
              "      <td>...</td>\n",
              "      <td>338.150000</td>\n",
              "      <td>7665.66</td>\n",
              "      <td>17.0</td>\n",
              "      <td>575.97</td>\n",
              "      <td>Yes</td>\n",
              "      <td>No</td>\n",
              "      <td>Yes</td>\n",
              "      <td>No Information Available</td>\n",
              "      <td>Poor Customer Service</td>\n",
              "      <td>1</td>\n",
              "    </tr>\n",
              "    <tr>\n",
              "      <th>2</th>\n",
              "      <td>a6aa19b1580eed4e</td>\n",
              "      <td>26</td>\n",
              "      <td>F</td>\n",
              "      <td>City</td>\n",
              "      <td>Silver Membership</td>\n",
              "      <td>2017-02-11</td>\n",
              "      <td>NaN</td>\n",
              "      <td>Credit/Debit Card Offers</td>\n",
              "      <td>NaN</td>\n",
              "      <td>Fiber_Optic</td>\n",
              "      <td>...</td>\n",
              "      <td>235.140000</td>\n",
              "      <td>37671.69</td>\n",
              "      <td>5.0</td>\n",
              "      <td>767.93</td>\n",
              "      <td>Yes</td>\n",
              "      <td>No</td>\n",
              "      <td>Yes</td>\n",
              "      <td>No Information Available</td>\n",
              "      <td>Too many ads</td>\n",
              "      <td>0</td>\n",
              "    </tr>\n",
              "    <tr>\n",
              "      <th>3</th>\n",
              "      <td>aeee343277211c2f</td>\n",
              "      <td>63</td>\n",
              "      <td>F</td>\n",
              "      <td>Village</td>\n",
              "      <td>No Membership</td>\n",
              "      <td>2015-12-23</td>\n",
              "      <td>No</td>\n",
              "      <td>Credit/Debit Card Offers</td>\n",
              "      <td>Desktop</td>\n",
              "      <td>Fiber_Optic</td>\n",
              "      <td>...</td>\n",
              "      <td>56.670000</td>\n",
              "      <td>15678.14</td>\n",
              "      <td>11.0</td>\n",
              "      <td>590.22</td>\n",
              "      <td>No</td>\n",
              "      <td>Yes</td>\n",
              "      <td>No</td>\n",
              "      <td>Not Applicable</td>\n",
              "      <td>Too many ads</td>\n",
              "      <td>1</td>\n",
              "    </tr>\n",
              "    <tr>\n",
              "      <th>4</th>\n",
              "      <td>82448b5c8ce6390c</td>\n",
              "      <td>64</td>\n",
              "      <td>M</td>\n",
              "      <td>Town</td>\n",
              "      <td>Silver Membership</td>\n",
              "      <td>2015-03-20</td>\n",
              "      <td>NaN</td>\n",
              "      <td>Gift Vouchers/Coupons</td>\n",
              "      <td>Smartphone</td>\n",
              "      <td>Wi-Fi</td>\n",
              "      <td>...</td>\n",
              "      <td>153.990000</td>\n",
              "      <td>8422.68</td>\n",
              "      <td>0.0</td>\n",
              "      <td>722.04</td>\n",
              "      <td>Yes</td>\n",
              "      <td>No</td>\n",
              "      <td>No</td>\n",
              "      <td>Not Applicable</td>\n",
              "      <td>Poor Product Quality</td>\n",
              "      <td>0</td>\n",
              "    </tr>\n",
              "    <tr>\n",
              "      <th>...</th>\n",
              "      <td>...</td>\n",
              "      <td>...</td>\n",
              "      <td>...</td>\n",
              "      <td>...</td>\n",
              "      <td>...</td>\n",
              "      <td>...</td>\n",
              "      <td>...</td>\n",
              "      <td>...</td>\n",
              "      <td>...</td>\n",
              "      <td>...</td>\n",
              "      <td>...</td>\n",
              "      <td>...</td>\n",
              "      <td>...</td>\n",
              "      <td>...</td>\n",
              "      <td>...</td>\n",
              "      <td>...</td>\n",
              "      <td>...</td>\n",
              "      <td>...</td>\n",
              "      <td>...</td>\n",
              "      <td>...</td>\n",
              "      <td>...</td>\n",
              "    </tr>\n",
              "    <tr>\n",
              "      <th>37005</th>\n",
              "      <td>924e9c06f0c73817</td>\n",
              "      <td>36</td>\n",
              "      <td>M</td>\n",
              "      <td>Town</td>\n",
              "      <td>Gold Membership</td>\n",
              "      <td>2015-03-05</td>\n",
              "      <td>NaN</td>\n",
              "      <td>Credit/Debit Card Offers</td>\n",
              "      <td>NaN</td>\n",
              "      <td>Fiber_Optic</td>\n",
              "      <td>...</td>\n",
              "      <td>199.330000</td>\n",
              "      <td>29455.29</td>\n",
              "      <td>9.0</td>\n",
              "      <td>846.52</td>\n",
              "      <td>Yes</td>\n",
              "      <td>Yes</td>\n",
              "      <td>No</td>\n",
              "      <td>Not Applicable</td>\n",
              "      <td>User Friendly Website</td>\n",
              "      <td>0</td>\n",
              "    </tr>\n",
              "    <tr>\n",
              "      <th>37006</th>\n",
              "      <td>90e22286ac0acf04</td>\n",
              "      <td>27</td>\n",
              "      <td>F</td>\n",
              "      <td>City</td>\n",
              "      <td>Gold Membership</td>\n",
              "      <td>2017-01-15</td>\n",
              "      <td>Yes</td>\n",
              "      <td>Without Offers</td>\n",
              "      <td>Desktop</td>\n",
              "      <td>Wi-Fi</td>\n",
              "      <td>...</td>\n",
              "      <td>368.500000</td>\n",
              "      <td>27038.47</td>\n",
              "      <td>8.0</td>\n",
              "      <td>835.98</td>\n",
              "      <td>No</td>\n",
              "      <td>Yes</td>\n",
              "      <td>No</td>\n",
              "      <td>Not Applicable</td>\n",
              "      <td>Reasonable Price</td>\n",
              "      <td>0</td>\n",
              "    </tr>\n",
              "    <tr>\n",
              "      <th>37007</th>\n",
              "      <td>9329a6297407334a</td>\n",
              "      <td>20</td>\n",
              "      <td>M</td>\n",
              "      <td>NaN</td>\n",
              "      <td>Gold Membership</td>\n",
              "      <td>2015-07-11</td>\n",
              "      <td>Yes</td>\n",
              "      <td>Without Offers</td>\n",
              "      <td>NaN</td>\n",
              "      <td>Mobile_Data</td>\n",
              "      <td>...</td>\n",
              "      <td>272.130000</td>\n",
              "      <td>39305.35</td>\n",
              "      <td>27.0</td>\n",
              "      <td>714.90</td>\n",
              "      <td>Yes</td>\n",
              "      <td>Yes</td>\n",
              "      <td>Yes</td>\n",
              "      <td>Solved</td>\n",
              "      <td>Poor Customer Service</td>\n",
              "      <td>0</td>\n",
              "    </tr>\n",
              "    <tr>\n",
              "      <th>37008</th>\n",
              "      <td>a4403ddda8fcf9f3</td>\n",
              "      <td>38</td>\n",
              "      <td>F</td>\n",
              "      <td>City</td>\n",
              "      <td>Gold Membership</td>\n",
              "      <td>2016-05-25</td>\n",
              "      <td>Yes</td>\n",
              "      <td>Without Offers</td>\n",
              "      <td>Desktop</td>\n",
              "      <td>Wi-Fi</td>\n",
              "      <td>...</td>\n",
              "      <td>65.070000</td>\n",
              "      <td>46108.73</td>\n",
              "      <td>6.0</td>\n",
              "      <td>744.99</td>\n",
              "      <td>No</td>\n",
              "      <td>Yes</td>\n",
              "      <td>No</td>\n",
              "      <td>Not Applicable</td>\n",
              "      <td>Poor Website</td>\n",
              "      <td>0</td>\n",
              "    </tr>\n",
              "    <tr>\n",
              "      <th>37009</th>\n",
              "      <td>93b5d0330d24fa15</td>\n",
              "      <td>36</td>\n",
              "      <td>M</td>\n",
              "      <td>Town</td>\n",
              "      <td>Gold Membership</td>\n",
              "      <td>2016-10-18</td>\n",
              "      <td>NaN</td>\n",
              "      <td>Without Offers</td>\n",
              "      <td>Both</td>\n",
              "      <td>Fiber_Optic</td>\n",
              "      <td>...</td>\n",
              "      <td>972.776679</td>\n",
              "      <td>26905.49</td>\n",
              "      <td>22.0</td>\n",
              "      <td>700.93</td>\n",
              "      <td>Yes</td>\n",
              "      <td>No</td>\n",
              "      <td>Yes</td>\n",
              "      <td>No Information Available</td>\n",
              "      <td>Poor Customer Service</td>\n",
              "      <td>1</td>\n",
              "    </tr>\n",
              "  </tbody>\n",
              "</table>\n",
              "<p>37010 rows × 22 columns</p>\n",
              "</div>"
            ],
            "text/plain": [
              "                user_id  age gender region_category membership_category  \\\n",
              "0      9f420209e7d129f3   29      F             NaN       No Membership   \n",
              "1      ac6e97806267549e   50      M             NaN    Basic Membership   \n",
              "2      a6aa19b1580eed4e   26      F            City   Silver Membership   \n",
              "3      aeee343277211c2f   63      F         Village       No Membership   \n",
              "4      82448b5c8ce6390c   64      M            Town   Silver Membership   \n",
              "...                 ...  ...    ...             ...                 ...   \n",
              "37005  924e9c06f0c73817   36      M            Town     Gold Membership   \n",
              "37006  90e22286ac0acf04   27      F            City     Gold Membership   \n",
              "37007  9329a6297407334a   20      M             NaN     Gold Membership   \n",
              "37008  a4403ddda8fcf9f3   38      F            City     Gold Membership   \n",
              "37009  93b5d0330d24fa15   36      M            Town     Gold Membership   \n",
              "\n",
              "      joining_date joined_through_referral     preferred_offer_types  \\\n",
              "0       2017-04-05                     Yes            Without Offers   \n",
              "1       2017-03-31                     Yes            Without Offers   \n",
              "2       2017-02-11                     NaN  Credit/Debit Card Offers   \n",
              "3       2015-12-23                      No  Credit/Debit Card Offers   \n",
              "4       2015-03-20                     NaN     Gift Vouchers/Coupons   \n",
              "...            ...                     ...                       ...   \n",
              "37005   2015-03-05                     NaN  Credit/Debit Card Offers   \n",
              "37006   2017-01-15                     Yes            Without Offers   \n",
              "37007   2015-07-11                     Yes            Without Offers   \n",
              "37008   2016-05-25                     Yes            Without Offers   \n",
              "37009   2016-10-18                     NaN            Without Offers   \n",
              "\n",
              "      medium_of_operation internet_option  ... avg_time_spent  \\\n",
              "0                     NaN           Wi-Fi  ...    1184.490000   \n",
              "1                 Desktop     Fiber_Optic  ...     338.150000   \n",
              "2                     NaN     Fiber_Optic  ...     235.140000   \n",
              "3                 Desktop     Fiber_Optic  ...      56.670000   \n",
              "4              Smartphone           Wi-Fi  ...     153.990000   \n",
              "...                   ...             ...  ...            ...   \n",
              "37005                 NaN     Fiber_Optic  ...     199.330000   \n",
              "37006             Desktop           Wi-Fi  ...     368.500000   \n",
              "37007                 NaN     Mobile_Data  ...     272.130000   \n",
              "37008             Desktop           Wi-Fi  ...      65.070000   \n",
              "37009                Both     Fiber_Optic  ...     972.776679   \n",
              "\n",
              "       avg_transaction_value  avg_frequency_login_days  points_in_wallet  \\\n",
              "0                   38604.69                      10.0            627.48   \n",
              "1                    7665.66                      17.0            575.97   \n",
              "2                   37671.69                       5.0            767.93   \n",
              "3                   15678.14                      11.0            590.22   \n",
              "4                    8422.68                       0.0            722.04   \n",
              "...                      ...                       ...               ...   \n",
              "37005               29455.29                       9.0            846.52   \n",
              "37006               27038.47                       8.0            835.98   \n",
              "37007               39305.35                      27.0            714.90   \n",
              "37008               46108.73                       6.0            744.99   \n",
              "37009               26905.49                      22.0            700.93   \n",
              "\n",
              "       used_special_discount  offer_application_preference past_complaint  \\\n",
              "0                        Yes                           Yes            Yes   \n",
              "1                        Yes                            No            Yes   \n",
              "2                        Yes                            No            Yes   \n",
              "3                         No                           Yes             No   \n",
              "4                        Yes                            No             No   \n",
              "...                      ...                           ...            ...   \n",
              "37005                    Yes                           Yes             No   \n",
              "37006                     No                           Yes             No   \n",
              "37007                    Yes                           Yes            Yes   \n",
              "37008                     No                           Yes             No   \n",
              "37009                    Yes                            No            Yes   \n",
              "\n",
              "               complaint_status               feedback churn_risk_score  \n",
              "0      No Information Available           Poor Website                1  \n",
              "1      No Information Available  Poor Customer Service                1  \n",
              "2      No Information Available           Too many ads                0  \n",
              "3                Not Applicable           Too many ads                1  \n",
              "4                Not Applicable   Poor Product Quality                0  \n",
              "...                         ...                    ...              ...  \n",
              "37005            Not Applicable  User Friendly Website                0  \n",
              "37006            Not Applicable       Reasonable Price                0  \n",
              "37007                    Solved  Poor Customer Service                0  \n",
              "37008            Not Applicable           Poor Website                0  \n",
              "37009  No Information Available  Poor Customer Service                1  \n",
              "\n",
              "[37010 rows x 22 columns]"
            ]
          },
          "execution_count": 187,
          "metadata": {},
          "output_type": "execute_result"
        }
      ],
      "source": [
        "# Data Loading\n",
        "\n",
        "data = pd.read_csv('churn.csv')\n",
        "data"
      ]
    },
    {
      "cell_type": "code",
      "execution_count": 188,
      "metadata": {},
      "outputs": [],
      "source": [
        "data_eda = data.copy()"
      ]
    },
    {
      "cell_type": "code",
      "execution_count": 189,
      "metadata": {},
      "outputs": [
        {
          "data": {
            "text/plain": [
              "user_id                            0\n",
              "age                                0\n",
              "gender                            59\n",
              "region_category                 5431\n",
              "membership_category                0\n",
              "joining_date                       0\n",
              "joined_through_referral         5442\n",
              "preferred_offer_types            288\n",
              "medium_of_operation             5395\n",
              "internet_option                    0\n",
              "last_visit_time                    0\n",
              "days_since_last_login              0\n",
              "avg_time_spent                     0\n",
              "avg_transaction_value              0\n",
              "avg_frequency_login_days           0\n",
              "points_in_wallet                   0\n",
              "used_special_discount              0\n",
              "offer_application_preference       0\n",
              "past_complaint                     0\n",
              "complaint_status                   0\n",
              "feedback                           0\n",
              "churn_risk_score                   0\n",
              "dtype: int64"
            ]
          },
          "execution_count": 189,
          "metadata": {},
          "output_type": "execute_result"
        }
      ],
      "source": [
        "data.isnull().sum()"
      ]
    },
    {
      "cell_type": "markdown",
      "metadata": {},
      "source": [
        "# EDA"
      ]
    },
    {
      "cell_type": "code",
      "execution_count": 190,
      "metadata": {},
      "outputs": [
        {
          "data": {
            "text/plain": [
              "<Axes: xlabel='age', ylabel='Density'>"
            ]
          },
          "execution_count": 190,
          "metadata": {},
          "output_type": "execute_result"
        },
        {
          "data": {
            "image/png": "[encoded data removed]",
            "text/plain": [
              "<Figure size 640x480 with 1 Axes>"
            ]
          },
          "metadata": {},
          "output_type": "display_data"
        }
      ],
      "source": [
        "sns.kdeplot(data=data_eda, x=\"age\", hue=\"churn_risk_score\")"
      ]
    },
    {
      "cell_type": "code",
      "execution_count": 191,
      "metadata": {},
      "outputs": [
        {
          "data": {
            "text/plain": [
              "<Axes: xlabel='gender', ylabel='count'>"
            ]
          },
          "execution_count": 191,
          "metadata": {},
          "output_type": "execute_result"
        },
        {
          "data": {
            "image/png": "[encoded data removed]",
            "text/plain": [
              "<Figure size 640x480 with 1 Axes>"
            ]
          },
          "metadata": {},
          "output_type": "display_data"
        }
      ],
      "source": [
        "sns.countplot(data=data_eda ,x=\"gender\", hue=\"churn_risk_score\")"
      ]
    },
    {
      "cell_type": "code",
      "execution_count": 192,
      "metadata": {},
      "outputs": [
        {
          "data": {
            "text/plain": [
              "<Axes: xlabel='count', ylabel='membership_category'>"
            ]
          },
          "execution_count": 192,
          "metadata": {},
          "output_type": "execute_result"
        },
        {
          "data": {
            "image/png": "[encoded data removed]",
            "text/plain": [
              "<Figure size 640x480 with 1 Axes>"
            ]
          },
          "metadata": {},
          "output_type": "display_data"
        }
      ],
      "source": [
        "sns.countplot(data=data_eda ,y=\"membership_category\", hue=\"churn_risk_score\")"
      ]
    },
    {
      "cell_type": "code",
      "execution_count": 193,
      "metadata": {},
      "outputs": [
        {
          "data": {
            "text/plain": [
              "<Axes: xlabel='region_category', ylabel='count'>"
            ]
          },
          "execution_count": 193,
          "metadata": {},
          "output_type": "execute_result"
        },
        {
          "data": {
            "image/png": "[encoded data removed]",
            "text/plain": [
              "<Figure size 640x480 with 1 Axes>"
            ]
          },
          "metadata": {},
          "output_type": "display_data"
        }
      ],
      "source": [
        "sns.countplot(data=data_eda ,x=\"region_category\", hue=\"churn_risk_score\")"
      ]
    },
    {
      "cell_type": "code",
      "execution_count": 194,
      "metadata": {},
      "outputs": [
        {
          "data": {
            "text/plain": [
              "<Axes: xlabel='medium_of_operation', ylabel='count'>"
            ]
          },
          "execution_count": 194,
          "metadata": {},
          "output_type": "execute_result"
        },
        {
          "data": {
            "image/png": "[encoded data removed]",
            "text/plain": [
              "<Figure size 640x480 with 1 Axes>"
            ]
          },
          "metadata": {},
          "output_type": "display_data"
        }
      ],
      "source": [
        "sns.countplot(data=data_eda ,x=\"medium_of_operation\", hue=\"churn_risk_score\")"
      ]
    },
    {
      "cell_type": "markdown",
      "metadata": {},
      "source": [
        "Insights:\n",
        "\n",
        "1. Chance of churn can happen in all ages\n",
        "2. Churn mostly happen in user with no membership and basic membership\n",
        "3. Most of churn happen to user who live in town and city\n",
        "4. Most of churn happen to user that using only Smartphone as the medium of operation"
      ]
    },
    {
      "cell_type": "markdown",
      "metadata": {
        "id": "qkaeQN8Mnq-o"
      },
      "source": [
        "# Feature Engineering"
      ]
    },
    {
      "cell_type": "markdown",
      "metadata": {},
      "source": [
        "## Handling Missing Value"
      ]
    },
    {
      "cell_type": "code",
      "execution_count": 195,
      "metadata": {},
      "outputs": [],
      "source": [
        "data.dropna(subset=['gender'], inplace=True)"
      ]
    },
    {
      "cell_type": "code",
      "execution_count": 196,
      "metadata": {},
      "outputs": [],
      "source": [
        "data = data.drop(['region_category', 'joined_through_referral', 'medium_of_operation'], axis=1)"
      ]
    },
    {
      "cell_type": "code",
      "execution_count": 197,
      "metadata": {},
      "outputs": [],
      "source": [
        "preferred_offer_types_mode = data['preferred_offer_types'].mode()[0]\n",
        "data['preferred_offer_types'].fillna(preferred_offer_types_mode, inplace=True)"
      ]
    },
    {
      "cell_type": "code",
      "execution_count": 198,
      "metadata": {},
      "outputs": [
        {
          "data": {
            "text/plain": [
              "user_id                         0\n",
              "age                             0\n",
              "gender                          0\n",
              "membership_category             0\n",
              "joining_date                    0\n",
              "preferred_offer_types           0\n",
              "internet_option                 0\n",
              "last_visit_time                 0\n",
              "days_since_last_login           0\n",
              "avg_time_spent                  0\n",
              "avg_transaction_value           0\n",
              "avg_frequency_login_days        0\n",
              "points_in_wallet                0\n",
              "used_special_discount           0\n",
              "offer_application_preference    0\n",
              "past_complaint                  0\n",
              "complaint_status                0\n",
              "feedback                        0\n",
              "churn_risk_score                0\n",
              "dtype: int64"
            ]
          },
          "execution_count": 198,
          "metadata": {},
          "output_type": "execute_result"
        }
      ],
      "source": [
        "data.isnull().sum()"
      ]
    },
    {
      "cell_type": "markdown",
      "metadata": {
        "id": "fK1vpzYinu0f"
      },
      "source": [
        "## Splitting between Train-Set, Val-Set, and Test-Set"
      ]
    },
    {
      "cell_type": "code",
      "execution_count": 199,
      "metadata": {
        "id": "ljD7hbEjn0Af"
      },
      "outputs": [],
      "source": [
        "# Splitting between `X` and `y`\n",
        "\n",
        "X = data.drop('churn_risk_score', axis=1)\n",
        "y = data['churn_risk_score']"
      ]
    },
    {
      "cell_type": "code",
      "execution_count": 200,
      "metadata": {
        "colab": {
          "base_uri": "https://localhost:8080/"
        },
        "id": "y-R3NClgomt4",
        "outputId": "e67cf197-bf84-492e-faf2-e838624b445a"
      },
      "outputs": [
        {
          "name": "stdout",
          "output_type": "stream",
          "text": [
            "Train Size :  (26696, 18)\n",
            "Val Size :  (4712, 18)\n",
            "Test Size :  (5543, 18)\n"
          ]
        }
      ],
      "source": [
        "# Splitting between Train-Set, Val-Set, and Test-Set\n",
        "\n",
        "X_train_val, X_test, y_train_val, y_test = train_test_split(X, y, test_size=0.15, random_state=20)\n",
        "X_train, X_val, y_train, y_val = train_test_split(X_train_val, y_train_val, test_size=0.15, random_state=20)\n",
        "\n",
        "print('Train Size : ', X_train.shape)\n",
        "print('Val Size : ', X_val.shape)\n",
        "print('Test Size : ', X_test.shape)"
      ]
    },
    {
      "cell_type": "code",
      "execution_count": 201,
      "metadata": {
        "colab": {
          "base_uri": "https://localhost:8080/"
        },
        "id": "KtXBqv2jpjtO",
        "outputId": "cfa2baf6-80a9-436e-b970-f10e3e545148"
      },
      "outputs": [
        {
          "data": {
            "text/plain": [
              "user_id                         0\n",
              "age                             0\n",
              "gender                          0\n",
              "membership_category             0\n",
              "joining_date                    0\n",
              "preferred_offer_types           0\n",
              "internet_option                 0\n",
              "last_visit_time                 0\n",
              "days_since_last_login           0\n",
              "avg_time_spent                  0\n",
              "avg_transaction_value           0\n",
              "avg_frequency_login_days        0\n",
              "points_in_wallet                0\n",
              "used_special_discount           0\n",
              "offer_application_preference    0\n",
              "past_complaint                  0\n",
              "complaint_status                0\n",
              "feedback                        0\n",
              "dtype: int64"
            ]
          },
          "execution_count": 201,
          "metadata": {},
          "output_type": "execute_result"
        }
      ],
      "source": [
        "# Check Missing Values on X_train\n",
        "\n",
        "X_train.isnull().sum()"
      ]
    },
    {
      "cell_type": "code",
      "execution_count": 202,
      "metadata": {
        "colab": {
          "base_uri": "https://localhost:8080/"
        },
        "id": "aV1EGNDcpq9S",
        "outputId": "37fca4bf-6e09-44e3-c95c-bf92742cf31d"
      },
      "outputs": [
        {
          "data": {
            "text/plain": [
              "user_id                         0\n",
              "age                             0\n",
              "gender                          0\n",
              "membership_category             0\n",
              "joining_date                    0\n",
              "preferred_offer_types           0\n",
              "internet_option                 0\n",
              "last_visit_time                 0\n",
              "days_since_last_login           0\n",
              "avg_time_spent                  0\n",
              "avg_transaction_value           0\n",
              "avg_frequency_login_days        0\n",
              "points_in_wallet                0\n",
              "used_special_discount           0\n",
              "offer_application_preference    0\n",
              "past_complaint                  0\n",
              "complaint_status                0\n",
              "feedback                        0\n",
              "dtype: int64"
            ]
          },
          "execution_count": 202,
          "metadata": {},
          "output_type": "execute_result"
        }
      ],
      "source": [
        "# Check Missing Values on X_val\n",
        "\n",
        "X_val.isnull().sum()"
      ]
    },
    {
      "cell_type": "code",
      "execution_count": 203,
      "metadata": {
        "colab": {
          "base_uri": "https://localhost:8080/"
        },
        "id": "5HK72vbwpxKU",
        "outputId": "2250e83f-1b13-46c9-d147-7c137b520901"
      },
      "outputs": [
        {
          "data": {
            "text/plain": [
              "user_id                         0\n",
              "age                             0\n",
              "gender                          0\n",
              "membership_category             0\n",
              "joining_date                    0\n",
              "preferred_offer_types           0\n",
              "internet_option                 0\n",
              "last_visit_time                 0\n",
              "days_since_last_login           0\n",
              "avg_time_spent                  0\n",
              "avg_transaction_value           0\n",
              "avg_frequency_login_days        0\n",
              "points_in_wallet                0\n",
              "used_special_discount           0\n",
              "offer_application_preference    0\n",
              "past_complaint                  0\n",
              "complaint_status                0\n",
              "feedback                        0\n",
              "dtype: int64"
            ]
          },
          "execution_count": 203,
          "metadata": {},
          "output_type": "execute_result"
        }
      ],
      "source": [
        "# Check Missing Values on X_test\n",
        "\n",
        "X_test.isnull().sum()"
      ]
    },
    {
      "cell_type": "markdown",
      "metadata": {
        "id": "_WdLmllOp_SB"
      },
      "source": [
        "##  Feature Selection"
      ]
    },
    {
      "cell_type": "code",
      "execution_count": 204,
      "metadata": {
        "colab": {
          "base_uri": "https://localhost:8080/",
          "height": 468
        },
        "id": "SQ40lLl1qCNO",
        "outputId": "6c65d9bb-8b0c-4476-cd54-530de9c37497"
      },
      "outputs": [
        {
          "data": {
            "text/html": [
              "<div>\n",
              "<style scoped>\n",
              "    .dataframe tbody tr th:only-of-type {\n",
              "        vertical-align: middle;\n",
              "    }\n",
              "\n",
              "    .dataframe tbody tr th {\n",
              "        vertical-align: top;\n",
              "    }\n",
              "\n",
              "    .dataframe thead th {\n",
              "        text-align: right;\n",
              "    }\n",
              "</style>\n",
              "<table border=\"1\" class=\"dataframe\">\n",
              "  <thead>\n",
              "    <tr style=\"text-align: right;\">\n",
              "      <th></th>\n",
              "      <th>user_id</th>\n",
              "      <th>age</th>\n",
              "      <th>gender</th>\n",
              "      <th>membership_category</th>\n",
              "      <th>joining_date</th>\n",
              "      <th>preferred_offer_types</th>\n",
              "      <th>internet_option</th>\n",
              "      <th>last_visit_time</th>\n",
              "      <th>days_since_last_login</th>\n",
              "      <th>avg_time_spent</th>\n",
              "      <th>avg_transaction_value</th>\n",
              "      <th>avg_frequency_login_days</th>\n",
              "      <th>points_in_wallet</th>\n",
              "      <th>used_special_discount</th>\n",
              "      <th>offer_application_preference</th>\n",
              "      <th>past_complaint</th>\n",
              "      <th>complaint_status</th>\n",
              "      <th>feedback</th>\n",
              "    </tr>\n",
              "  </thead>\n",
              "  <tbody>\n",
              "    <tr>\n",
              "      <th>32866</th>\n",
              "      <td>9f2044dd2a28e0f6</td>\n",
              "      <td>34</td>\n",
              "      <td>M</td>\n",
              "      <td>Platinum Membership</td>\n",
              "      <td>2015-06-25</td>\n",
              "      <td>Credit/Debit Card Offers</td>\n",
              "      <td>Fiber_Optic</td>\n",
              "      <td>07:42:36</td>\n",
              "      <td>6</td>\n",
              "      <td>1092.30</td>\n",
              "      <td>17650.65</td>\n",
              "      <td>17.0</td>\n",
              "      <td>770.250000</td>\n",
              "      <td>Yes</td>\n",
              "      <td>Yes</td>\n",
              "      <td>No</td>\n",
              "      <td>Not Applicable</td>\n",
              "      <td>Too many ads</td>\n",
              "    </tr>\n",
              "    <tr>\n",
              "      <th>14916</th>\n",
              "      <td>a50c4b389d5cd6da</td>\n",
              "      <td>52</td>\n",
              "      <td>M</td>\n",
              "      <td>Gold Membership</td>\n",
              "      <td>2016-05-08</td>\n",
              "      <td>Credit/Debit Card Offers</td>\n",
              "      <td>Fiber_Optic</td>\n",
              "      <td>18:46:13</td>\n",
              "      <td>12</td>\n",
              "      <td>68.27</td>\n",
              "      <td>68721.28</td>\n",
              "      <td>0.0</td>\n",
              "      <td>803.920000</td>\n",
              "      <td>Yes</td>\n",
              "      <td>No</td>\n",
              "      <td>Yes</td>\n",
              "      <td>Solved in Follow-up</td>\n",
              "      <td>User Friendly Website</td>\n",
              "    </tr>\n",
              "    <tr>\n",
              "      <th>23201</th>\n",
              "      <td>ba95855d0c636f3a</td>\n",
              "      <td>37</td>\n",
              "      <td>M</td>\n",
              "      <td>Platinum Membership</td>\n",
              "      <td>2016-02-12</td>\n",
              "      <td>Without Offers</td>\n",
              "      <td>Mobile_Data</td>\n",
              "      <td>12:38:53</td>\n",
              "      <td>16</td>\n",
              "      <td>708.40</td>\n",
              "      <td>1007.39</td>\n",
              "      <td>13.0</td>\n",
              "      <td>284.527886</td>\n",
              "      <td>Yes</td>\n",
              "      <td>Yes</td>\n",
              "      <td>No</td>\n",
              "      <td>Not Applicable</td>\n",
              "      <td>Reasonable Price</td>\n",
              "    </tr>\n",
              "    <tr>\n",
              "      <th>21389</th>\n",
              "      <td>b50ef8a8f32f1d4c</td>\n",
              "      <td>36</td>\n",
              "      <td>M</td>\n",
              "      <td>Silver Membership</td>\n",
              "      <td>2017-08-17</td>\n",
              "      <td>Credit/Debit Card Offers</td>\n",
              "      <td>Wi-Fi</td>\n",
              "      <td>15:14:15</td>\n",
              "      <td>7</td>\n",
              "      <td>0.00</td>\n",
              "      <td>43978.26</td>\n",
              "      <td>27.0</td>\n",
              "      <td>639.990000</td>\n",
              "      <td>Yes</td>\n",
              "      <td>No</td>\n",
              "      <td>No</td>\n",
              "      <td>Not Applicable</td>\n",
              "      <td>Poor Website</td>\n",
              "    </tr>\n",
              "    <tr>\n",
              "      <th>12329</th>\n",
              "      <td>aa848a74e2ec7616</td>\n",
              "      <td>40</td>\n",
              "      <td>M</td>\n",
              "      <td>Premium Membership</td>\n",
              "      <td>2016-05-22</td>\n",
              "      <td>Credit/Debit Card Offers</td>\n",
              "      <td>Fiber_Optic</td>\n",
              "      <td>15:47:19</td>\n",
              "      <td>6</td>\n",
              "      <td>148.32</td>\n",
              "      <td>15975.31</td>\n",
              "      <td>21.0</td>\n",
              "      <td>794.790000</td>\n",
              "      <td>Yes</td>\n",
              "      <td>No</td>\n",
              "      <td>No</td>\n",
              "      <td>Not Applicable</td>\n",
              "      <td>No reason specified</td>\n",
              "    </tr>\n",
              "    <tr>\n",
              "      <th>...</th>\n",
              "      <td>...</td>\n",
              "      <td>...</td>\n",
              "      <td>...</td>\n",
              "      <td>...</td>\n",
              "      <td>...</td>\n",
              "      <td>...</td>\n",
              "      <td>...</td>\n",
              "      <td>...</td>\n",
              "      <td>...</td>\n",
              "      <td>...</td>\n",
              "      <td>...</td>\n",
              "      <td>...</td>\n",
              "      <td>...</td>\n",
              "      <td>...</td>\n",
              "      <td>...</td>\n",
              "      <td>...</td>\n",
              "      <td>...</td>\n",
              "      <td>...</td>\n",
              "    </tr>\n",
              "    <tr>\n",
              "      <th>30711</th>\n",
              "      <td>9c72f1990bd937db</td>\n",
              "      <td>60</td>\n",
              "      <td>M</td>\n",
              "      <td>Basic Membership</td>\n",
              "      <td>2016-01-11</td>\n",
              "      <td>Without Offers</td>\n",
              "      <td>Wi-Fi</td>\n",
              "      <td>20:06:38</td>\n",
              "      <td>14</td>\n",
              "      <td>159.89</td>\n",
              "      <td>4768.45</td>\n",
              "      <td>14.0</td>\n",
              "      <td>187.729835</td>\n",
              "      <td>No</td>\n",
              "      <td>Yes</td>\n",
              "      <td>Yes</td>\n",
              "      <td>Solved in Follow-up</td>\n",
              "      <td>Poor Customer Service</td>\n",
              "    </tr>\n",
              "    <tr>\n",
              "      <th>25670</th>\n",
              "      <td>b5176fb21e307d19</td>\n",
              "      <td>48</td>\n",
              "      <td>M</td>\n",
              "      <td>Silver Membership</td>\n",
              "      <td>2016-04-23</td>\n",
              "      <td>Without Offers</td>\n",
              "      <td>Mobile_Data</td>\n",
              "      <td>02:06:12</td>\n",
              "      <td>14</td>\n",
              "      <td>1335.14</td>\n",
              "      <td>1171.62</td>\n",
              "      <td>0.0</td>\n",
              "      <td>653.310000</td>\n",
              "      <td>No</td>\n",
              "      <td>Yes</td>\n",
              "      <td>Yes</td>\n",
              "      <td>Solved</td>\n",
              "      <td>Poor Customer Service</td>\n",
              "    </tr>\n",
              "    <tr>\n",
              "      <th>4010</th>\n",
              "      <td>889ed03f5ad74c50</td>\n",
              "      <td>63</td>\n",
              "      <td>M</td>\n",
              "      <td>Gold Membership</td>\n",
              "      <td>2015-06-05</td>\n",
              "      <td>Credit/Debit Card Offers</td>\n",
              "      <td>Wi-Fi</td>\n",
              "      <td>18:21:43</td>\n",
              "      <td>13</td>\n",
              "      <td>363.68</td>\n",
              "      <td>26208.60</td>\n",
              "      <td>10.0</td>\n",
              "      <td>76.421044</td>\n",
              "      <td>No</td>\n",
              "      <td>Yes</td>\n",
              "      <td>Yes</td>\n",
              "      <td>Solved in Follow-up</td>\n",
              "      <td>Poor Customer Service</td>\n",
              "    </tr>\n",
              "    <tr>\n",
              "      <th>27033</th>\n",
              "      <td>a9cdac3cdaa757b6</td>\n",
              "      <td>48</td>\n",
              "      <td>M</td>\n",
              "      <td>Gold Membership</td>\n",
              "      <td>2017-11-10</td>\n",
              "      <td>Without Offers</td>\n",
              "      <td>Fiber_Optic</td>\n",
              "      <td>08:46:25</td>\n",
              "      <td>15</td>\n",
              "      <td>138.22</td>\n",
              "      <td>32247.49</td>\n",
              "      <td>0.0</td>\n",
              "      <td>678.710000</td>\n",
              "      <td>Yes</td>\n",
              "      <td>No</td>\n",
              "      <td>Yes</td>\n",
              "      <td>Solved</td>\n",
              "      <td>No reason specified</td>\n",
              "    </tr>\n",
              "    <tr>\n",
              "      <th>36958</th>\n",
              "      <td>b149e79435bc0b9c</td>\n",
              "      <td>16</td>\n",
              "      <td>M</td>\n",
              "      <td>Silver Membership</td>\n",
              "      <td>2017-03-14</td>\n",
              "      <td>Without Offers</td>\n",
              "      <td>Fiber_Optic</td>\n",
              "      <td>08:30:32</td>\n",
              "      <td>13</td>\n",
              "      <td>33.48</td>\n",
              "      <td>1526.68</td>\n",
              "      <td>13.0</td>\n",
              "      <td>603.320000</td>\n",
              "      <td>Yes</td>\n",
              "      <td>No</td>\n",
              "      <td>No</td>\n",
              "      <td>Not Applicable</td>\n",
              "      <td>Poor Product Quality</td>\n",
              "    </tr>\n",
              "  </tbody>\n",
              "</table>\n",
              "<p>26696 rows × 18 columns</p>\n",
              "</div>"
            ],
            "text/plain": [
              "                user_id  age gender  membership_category joining_date  \\\n",
              "32866  9f2044dd2a28e0f6   34      M  Platinum Membership   2015-06-25   \n",
              "14916  a50c4b389d5cd6da   52      M      Gold Membership   2016-05-08   \n",
              "23201  ba95855d0c636f3a   37      M  Platinum Membership   2016-02-12   \n",
              "21389  b50ef8a8f32f1d4c   36      M    Silver Membership   2017-08-17   \n",
              "12329  aa848a74e2ec7616   40      M   Premium Membership   2016-05-22   \n",
              "...                 ...  ...    ...                  ...          ...   \n",
              "30711  9c72f1990bd937db   60      M     Basic Membership   2016-01-11   \n",
              "25670  b5176fb21e307d19   48      M    Silver Membership   2016-04-23   \n",
              "4010   889ed03f5ad74c50   63      M      Gold Membership   2015-06-05   \n",
              "27033  a9cdac3cdaa757b6   48      M      Gold Membership   2017-11-10   \n",
              "36958  b149e79435bc0b9c   16      M    Silver Membership   2017-03-14   \n",
              "\n",
              "          preferred_offer_types internet_option last_visit_time  \\\n",
              "32866  Credit/Debit Card Offers     Fiber_Optic        07:42:36   \n",
              "14916  Credit/Debit Card Offers     Fiber_Optic        18:46:13   \n",
              "23201            Without Offers     Mobile_Data        12:38:53   \n",
              "21389  Credit/Debit Card Offers           Wi-Fi        15:14:15   \n",
              "12329  Credit/Debit Card Offers     Fiber_Optic        15:47:19   \n",
              "...                         ...             ...             ...   \n",
              "30711            Without Offers           Wi-Fi        20:06:38   \n",
              "25670            Without Offers     Mobile_Data        02:06:12   \n",
              "4010   Credit/Debit Card Offers           Wi-Fi        18:21:43   \n",
              "27033            Without Offers     Fiber_Optic        08:46:25   \n",
              "36958            Without Offers     Fiber_Optic        08:30:32   \n",
              "\n",
              "       days_since_last_login  avg_time_spent  avg_transaction_value  \\\n",
              "32866                      6         1092.30               17650.65   \n",
              "14916                     12           68.27               68721.28   \n",
              "23201                     16          708.40                1007.39   \n",
              "21389                      7            0.00               43978.26   \n",
              "12329                      6          148.32               15975.31   \n",
              "...                      ...             ...                    ...   \n",
              "30711                     14          159.89                4768.45   \n",
              "25670                     14         1335.14                1171.62   \n",
              "4010                      13          363.68               26208.60   \n",
              "27033                     15          138.22               32247.49   \n",
              "36958                     13           33.48                1526.68   \n",
              "\n",
              "       avg_frequency_login_days  points_in_wallet used_special_discount  \\\n",
              "32866                      17.0        770.250000                   Yes   \n",
              "14916                       0.0        803.920000                   Yes   \n",
              "23201                      13.0        284.527886                   Yes   \n",
              "21389                      27.0        639.990000                   Yes   \n",
              "12329                      21.0        794.790000                   Yes   \n",
              "...                         ...               ...                   ...   \n",
              "30711                      14.0        187.729835                    No   \n",
              "25670                       0.0        653.310000                    No   \n",
              "4010                       10.0         76.421044                    No   \n",
              "27033                       0.0        678.710000                   Yes   \n",
              "36958                      13.0        603.320000                   Yes   \n",
              "\n",
              "      offer_application_preference past_complaint     complaint_status  \\\n",
              "32866                          Yes             No       Not Applicable   \n",
              "14916                           No            Yes  Solved in Follow-up   \n",
              "23201                          Yes             No       Not Applicable   \n",
              "21389                           No             No       Not Applicable   \n",
              "12329                           No             No       Not Applicable   \n",
              "...                            ...            ...                  ...   \n",
              "30711                          Yes            Yes  Solved in Follow-up   \n",
              "25670                          Yes            Yes               Solved   \n",
              "4010                           Yes            Yes  Solved in Follow-up   \n",
              "27033                           No            Yes               Solved   \n",
              "36958                           No             No       Not Applicable   \n",
              "\n",
              "                    feedback  \n",
              "32866           Too many ads  \n",
              "14916  User Friendly Website  \n",
              "23201       Reasonable Price  \n",
              "21389           Poor Website  \n",
              "12329    No reason specified  \n",
              "...                      ...  \n",
              "30711  Poor Customer Service  \n",
              "25670  Poor Customer Service  \n",
              "4010   Poor Customer Service  \n",
              "27033    No reason specified  \n",
              "36958   Poor Product Quality  \n",
              "\n",
              "[26696 rows x 18 columns]"
            ]
          },
          "execution_count": 204,
          "metadata": {},
          "output_type": "execute_result"
        }
      ],
      "source": [
        "# Display X_train\n",
        "\n",
        "X_train"
      ]
    },
    {
      "cell_type": "code",
      "execution_count": 205,
      "metadata": {
        "colab": {
          "base_uri": "https://localhost:8080/",
          "height": 424
        },
        "id": "wSHaQrqSqgEB",
        "outputId": "e4002e5b-07a3-4379-98f4-8a6f8b61f074"
      },
      "outputs": [
        {
          "data": {
            "text/html": [
              "<div>\n",
              "<style scoped>\n",
              "    .dataframe tbody tr th:only-of-type {\n",
              "        vertical-align: middle;\n",
              "    }\n",
              "\n",
              "    .dataframe tbody tr th {\n",
              "        vertical-align: top;\n",
              "    }\n",
              "\n",
              "    .dataframe thead th {\n",
              "        text-align: right;\n",
              "    }\n",
              "</style>\n",
              "<table border=\"1\" class=\"dataframe\">\n",
              "  <thead>\n",
              "    <tr style=\"text-align: right;\">\n",
              "      <th></th>\n",
              "      <th>age</th>\n",
              "      <th>gender</th>\n",
              "      <th>membership_category</th>\n",
              "      <th>preferred_offer_types</th>\n",
              "      <th>internet_option</th>\n",
              "      <th>days_since_last_login</th>\n",
              "      <th>avg_time_spent</th>\n",
              "      <th>avg_transaction_value</th>\n",
              "      <th>avg_frequency_login_days</th>\n",
              "      <th>points_in_wallet</th>\n",
              "      <th>used_special_discount</th>\n",
              "      <th>offer_application_preference</th>\n",
              "      <th>past_complaint</th>\n",
              "      <th>complaint_status</th>\n",
              "      <th>feedback</th>\n",
              "    </tr>\n",
              "  </thead>\n",
              "  <tbody>\n",
              "    <tr>\n",
              "      <th>32866</th>\n",
              "      <td>34</td>\n",
              "      <td>M</td>\n",
              "      <td>Platinum Membership</td>\n",
              "      <td>Credit/Debit Card Offers</td>\n",
              "      <td>Fiber_Optic</td>\n",
              "      <td>6</td>\n",
              "      <td>1092.30</td>\n",
              "      <td>17650.65</td>\n",
              "      <td>17.0</td>\n",
              "      <td>770.250000</td>\n",
              "      <td>Yes</td>\n",
              "      <td>Yes</td>\n",
              "      <td>No</td>\n",
              "      <td>Not Applicable</td>\n",
              "      <td>Too many ads</td>\n",
              "    </tr>\n",
              "    <tr>\n",
              "      <th>14916</th>\n",
              "      <td>52</td>\n",
              "      <td>M</td>\n",
              "      <td>Gold Membership</td>\n",
              "      <td>Credit/Debit Card Offers</td>\n",
              "      <td>Fiber_Optic</td>\n",
              "      <td>12</td>\n",
              "      <td>68.27</td>\n",
              "      <td>68721.28</td>\n",
              "      <td>0.0</td>\n",
              "      <td>803.920000</td>\n",
              "      <td>Yes</td>\n",
              "      <td>No</td>\n",
              "      <td>Yes</td>\n",
              "      <td>Solved in Follow-up</td>\n",
              "      <td>User Friendly Website</td>\n",
              "    </tr>\n",
              "    <tr>\n",
              "      <th>23201</th>\n",
              "      <td>37</td>\n",
              "      <td>M</td>\n",
              "      <td>Platinum Membership</td>\n",
              "      <td>Without Offers</td>\n",
              "      <td>Mobile_Data</td>\n",
              "      <td>16</td>\n",
              "      <td>708.40</td>\n",
              "      <td>1007.39</td>\n",
              "      <td>13.0</td>\n",
              "      <td>284.527886</td>\n",
              "      <td>Yes</td>\n",
              "      <td>Yes</td>\n",
              "      <td>No</td>\n",
              "      <td>Not Applicable</td>\n",
              "      <td>Reasonable Price</td>\n",
              "    </tr>\n",
              "    <tr>\n",
              "      <th>21389</th>\n",
              "      <td>36</td>\n",
              "      <td>M</td>\n",
              "      <td>Silver Membership</td>\n",
              "      <td>Credit/Debit Card Offers</td>\n",
              "      <td>Wi-Fi</td>\n",
              "      <td>7</td>\n",
              "      <td>0.00</td>\n",
              "      <td>43978.26</td>\n",
              "      <td>27.0</td>\n",
              "      <td>639.990000</td>\n",
              "      <td>Yes</td>\n",
              "      <td>No</td>\n",
              "      <td>No</td>\n",
              "      <td>Not Applicable</td>\n",
              "      <td>Poor Website</td>\n",
              "    </tr>\n",
              "    <tr>\n",
              "      <th>12329</th>\n",
              "      <td>40</td>\n",
              "      <td>M</td>\n",
              "      <td>Premium Membership</td>\n",
              "      <td>Credit/Debit Card Offers</td>\n",
              "      <td>Fiber_Optic</td>\n",
              "      <td>6</td>\n",
              "      <td>148.32</td>\n",
              "      <td>15975.31</td>\n",
              "      <td>21.0</td>\n",
              "      <td>794.790000</td>\n",
              "      <td>Yes</td>\n",
              "      <td>No</td>\n",
              "      <td>No</td>\n",
              "      <td>Not Applicable</td>\n",
              "      <td>No reason specified</td>\n",
              "    </tr>\n",
              "    <tr>\n",
              "      <th>...</th>\n",
              "      <td>...</td>\n",
              "      <td>...</td>\n",
              "      <td>...</td>\n",
              "      <td>...</td>\n",
              "      <td>...</td>\n",
              "      <td>...</td>\n",
              "      <td>...</td>\n",
              "      <td>...</td>\n",
              "      <td>...</td>\n",
              "      <td>...</td>\n",
              "      <td>...</td>\n",
              "      <td>...</td>\n",
              "      <td>...</td>\n",
              "      <td>...</td>\n",
              "      <td>...</td>\n",
              "    </tr>\n",
              "    <tr>\n",
              "      <th>30711</th>\n",
              "      <td>60</td>\n",
              "      <td>M</td>\n",
              "      <td>Basic Membership</td>\n",
              "      <td>Without Offers</td>\n",
              "      <td>Wi-Fi</td>\n",
              "      <td>14</td>\n",
              "      <td>159.89</td>\n",
              "      <td>4768.45</td>\n",
              "      <td>14.0</td>\n",
              "      <td>187.729835</td>\n",
              "      <td>No</td>\n",
              "      <td>Yes</td>\n",
              "      <td>Yes</td>\n",
              "      <td>Solved in Follow-up</td>\n",
              "      <td>Poor Customer Service</td>\n",
              "    </tr>\n",
              "    <tr>\n",
              "      <th>25670</th>\n",
              "      <td>48</td>\n",
              "      <td>M</td>\n",
              "      <td>Silver Membership</td>\n",
              "      <td>Without Offers</td>\n",
              "      <td>Mobile_Data</td>\n",
              "      <td>14</td>\n",
              "      <td>1335.14</td>\n",
              "      <td>1171.62</td>\n",
              "      <td>0.0</td>\n",
              "      <td>653.310000</td>\n",
              "      <td>No</td>\n",
              "      <td>Yes</td>\n",
              "      <td>Yes</td>\n",
              "      <td>Solved</td>\n",
              "      <td>Poor Customer Service</td>\n",
              "    </tr>\n",
              "    <tr>\n",
              "      <th>4010</th>\n",
              "      <td>63</td>\n",
              "      <td>M</td>\n",
              "      <td>Gold Membership</td>\n",
              "      <td>Credit/Debit Card Offers</td>\n",
              "      <td>Wi-Fi</td>\n",
              "      <td>13</td>\n",
              "      <td>363.68</td>\n",
              "      <td>26208.60</td>\n",
              "      <td>10.0</td>\n",
              "      <td>76.421044</td>\n",
              "      <td>No</td>\n",
              "      <td>Yes</td>\n",
              "      <td>Yes</td>\n",
              "      <td>Solved in Follow-up</td>\n",
              "      <td>Poor Customer Service</td>\n",
              "    </tr>\n",
              "    <tr>\n",
              "      <th>27033</th>\n",
              "      <td>48</td>\n",
              "      <td>M</td>\n",
              "      <td>Gold Membership</td>\n",
              "      <td>Without Offers</td>\n",
              "      <td>Fiber_Optic</td>\n",
              "      <td>15</td>\n",
              "      <td>138.22</td>\n",
              "      <td>32247.49</td>\n",
              "      <td>0.0</td>\n",
              "      <td>678.710000</td>\n",
              "      <td>Yes</td>\n",
              "      <td>No</td>\n",
              "      <td>Yes</td>\n",
              "      <td>Solved</td>\n",
              "      <td>No reason specified</td>\n",
              "    </tr>\n",
              "    <tr>\n",
              "      <th>36958</th>\n",
              "      <td>16</td>\n",
              "      <td>M</td>\n",
              "      <td>Silver Membership</td>\n",
              "      <td>Without Offers</td>\n",
              "      <td>Fiber_Optic</td>\n",
              "      <td>13</td>\n",
              "      <td>33.48</td>\n",
              "      <td>1526.68</td>\n",
              "      <td>13.0</td>\n",
              "      <td>603.320000</td>\n",
              "      <td>Yes</td>\n",
              "      <td>No</td>\n",
              "      <td>No</td>\n",
              "      <td>Not Applicable</td>\n",
              "      <td>Poor Product Quality</td>\n",
              "    </tr>\n",
              "  </tbody>\n",
              "</table>\n",
              "<p>26696 rows × 15 columns</p>\n",
              "</div>"
            ],
            "text/plain": [
              "       age gender  membership_category     preferred_offer_types  \\\n",
              "32866   34      M  Platinum Membership  Credit/Debit Card Offers   \n",
              "14916   52      M      Gold Membership  Credit/Debit Card Offers   \n",
              "23201   37      M  Platinum Membership            Without Offers   \n",
              "21389   36      M    Silver Membership  Credit/Debit Card Offers   \n",
              "12329   40      M   Premium Membership  Credit/Debit Card Offers   \n",
              "...    ...    ...                  ...                       ...   \n",
              "30711   60      M     Basic Membership            Without Offers   \n",
              "25670   48      M    Silver Membership            Without Offers   \n",
              "4010    63      M      Gold Membership  Credit/Debit Card Offers   \n",
              "27033   48      M      Gold Membership            Without Offers   \n",
              "36958   16      M    Silver Membership            Without Offers   \n",
              "\n",
              "      internet_option  days_since_last_login  avg_time_spent  \\\n",
              "32866     Fiber_Optic                      6         1092.30   \n",
              "14916     Fiber_Optic                     12           68.27   \n",
              "23201     Mobile_Data                     16          708.40   \n",
              "21389           Wi-Fi                      7            0.00   \n",
              "12329     Fiber_Optic                      6          148.32   \n",
              "...               ...                    ...             ...   \n",
              "30711           Wi-Fi                     14          159.89   \n",
              "25670     Mobile_Data                     14         1335.14   \n",
              "4010            Wi-Fi                     13          363.68   \n",
              "27033     Fiber_Optic                     15          138.22   \n",
              "36958     Fiber_Optic                     13           33.48   \n",
              "\n",
              "       avg_transaction_value  avg_frequency_login_days  points_in_wallet  \\\n",
              "32866               17650.65                      17.0        770.250000   \n",
              "14916               68721.28                       0.0        803.920000   \n",
              "23201                1007.39                      13.0        284.527886   \n",
              "21389               43978.26                      27.0        639.990000   \n",
              "12329               15975.31                      21.0        794.790000   \n",
              "...                      ...                       ...               ...   \n",
              "30711                4768.45                      14.0        187.729835   \n",
              "25670                1171.62                       0.0        653.310000   \n",
              "4010                26208.60                      10.0         76.421044   \n",
              "27033               32247.49                       0.0        678.710000   \n",
              "36958                1526.68                      13.0        603.320000   \n",
              "\n",
              "      used_special_discount offer_application_preference past_complaint  \\\n",
              "32866                   Yes                          Yes             No   \n",
              "14916                   Yes                           No            Yes   \n",
              "23201                   Yes                          Yes             No   \n",
              "21389                   Yes                           No             No   \n",
              "12329                   Yes                           No             No   \n",
              "...                     ...                          ...            ...   \n",
              "30711                    No                          Yes            Yes   \n",
              "25670                    No                          Yes            Yes   \n",
              "4010                     No                          Yes            Yes   \n",
              "27033                   Yes                           No            Yes   \n",
              "36958                   Yes                           No             No   \n",
              "\n",
              "          complaint_status               feedback  \n",
              "32866       Not Applicable           Too many ads  \n",
              "14916  Solved in Follow-up  User Friendly Website  \n",
              "23201       Not Applicable       Reasonable Price  \n",
              "21389       Not Applicable           Poor Website  \n",
              "12329       Not Applicable    No reason specified  \n",
              "...                    ...                    ...  \n",
              "30711  Solved in Follow-up  Poor Customer Service  \n",
              "25670               Solved  Poor Customer Service  \n",
              "4010   Solved in Follow-up  Poor Customer Service  \n",
              "27033               Solved    No reason specified  \n",
              "36958       Not Applicable   Poor Product Quality  \n",
              "\n",
              "[26696 rows x 15 columns]"
            ]
          },
          "execution_count": 205,
          "metadata": {},
          "output_type": "execute_result"
        }
      ],
      "source": [
        "# Drop Columns\n",
        "\n",
        "X_train.drop(['user_id', 'joining_date', 'last_visit_time'], axis=1, inplace=True)\n",
        "X_val.drop(['user_id', 'joining_date', 'last_visit_time'], axis=1, inplace=True)\n",
        "X_test.drop(['user_id', 'joining_date', 'last_visit_time'], axis=1, inplace=True)\n",
        "\n",
        "X_train"
      ]
    },
    {
      "cell_type": "markdown",
      "metadata": {
        "id": "PTPnf_iWrJo5"
      },
      "source": [
        "## Get Numerical Columns and Categorical Columns"
      ]
    },
    {
      "cell_type": "code",
      "execution_count": 206,
      "metadata": {
        "colab": {
          "base_uri": "https://localhost:8080/"
        },
        "id": "l147CuSHrNjp",
        "outputId": "9b290414-9375-42bc-ee84-f2bd786ebaec"
      },
      "outputs": [
        {
          "name": "stdout",
          "output_type": "stream",
          "text": [
            "Numerical Columns :  ['age', 'days_since_last_login', 'avg_time_spent', 'avg_transaction_value', 'avg_frequency_login_days', 'points_in_wallet']\n",
            "Categorical Columns :  ['gender', 'membership_category', 'preferred_offer_types', 'internet_option', 'used_special_discount', 'offer_application_preference', 'past_complaint', 'complaint_status', 'feedback']\n"
          ]
        }
      ],
      "source": [
        "# Get Numerical Columns and Categorical Columns\n",
        "\n",
        "num_columns = X_train.select_dtypes(include=np.number).columns.tolist()\n",
        "cat_columns = X_train.select_dtypes(include=['object']).columns.tolist()\n",
        "\n",
        "print('Numerical Columns : ', num_columns)\n",
        "print('Categorical Columns : ', cat_columns)"
      ]
    },
    {
      "cell_type": "markdown",
      "metadata": {
        "id": "6W2UomEQru4G"
      },
      "source": [
        "## Pipeline"
      ]
    },
    {
      "cell_type": "code",
      "execution_count": 207,
      "metadata": {
        "id": "iIXoFIgkrx2c"
      },
      "outputs": [],
      "source": [
        "# Create A Pipeline\n",
        "\n",
        "num_pipeline = make_pipeline(SimpleImputer(strategy='median'),\n",
        "                             StandardScaler())\n",
        "\n",
        "cat_pipeline = make_pipeline(OrdinalEncoder())\n",
        "\n",
        "final_pipeline = ColumnTransformer([\n",
        "    ('pipe_num', num_pipeline, num_columns),\n",
        "    ('pipe_cat', cat_pipeline, cat_columns)\n",
        "])"
      ]
    },
    {
      "cell_type": "code",
      "execution_count": 208,
      "metadata": {
        "colab": {
          "base_uri": "https://localhost:8080/"
        },
        "id": "j2YSScWesTm5",
        "outputId": "cc8a90a2-352c-4d29-bac6-c4e78d4db445"
      },
      "outputs": [
        {
          "data": {
            "text/plain": [
              "(26696, 15)"
            ]
          },
          "execution_count": 208,
          "metadata": {},
          "output_type": "execute_result"
        }
      ],
      "source": [
        "# Fit and Transform\n",
        "\n",
        "X_train = final_pipeline.fit_transform(X_train)\n",
        "X_val = final_pipeline.transform(X_val)\n",
        "X_test = final_pipeline.transform(X_test)\n",
        "X_train.shape"
      ]
    },
    {
      "cell_type": "code",
      "execution_count": 209,
      "metadata": {
        "colab": {
          "base_uri": "https://localhost:8080/"
        },
        "id": "__lMOahksTku",
        "outputId": "e9828b17-17f9-4c41-ed6d-73a2e1b5e886"
      },
      "outputs": [
        {
          "data": {
            "text/plain": [
              "array([[-0.20296518,  0.20842517,  2.45800057, ...,  0.        ,\n",
              "         1.        ,  7.        ],\n",
              "       [ 0.93134726,  0.23473882, -0.6378886 , ...,  1.        ,\n",
              "         3.        ,  8.        ],\n",
              "       [-0.01391311,  0.25228126,  1.29737847, ...,  0.        ,\n",
              "         1.        ,  6.        ],\n",
              "       ...,\n",
              "       [ 1.62453819,  0.23912443,  0.25520693, ...,  1.        ,\n",
              "         3.        ,  1.        ],\n",
              "       [ 0.67927783,  0.24789565, -0.42641291, ...,  1.        ,\n",
              "         2.        ,  0.        ],\n",
              "       [-1.33727761,  0.23912443, -0.74306714, ...,  0.        ,\n",
              "         1.        ,  2.        ]])"
            ]
          },
          "execution_count": 209,
          "metadata": {},
          "output_type": "execute_result"
        }
      ],
      "source": [
        "X_train"
      ]
    },
    {
      "cell_type": "markdown",
      "metadata": {
        "id": "ruwdX7COuVVC"
      },
      "source": [
        "# Sequential API"
      ]
    },
    {
      "cell_type": "markdown",
      "metadata": {
        "id": "OB1AXXnPuYkQ"
      },
      "source": [
        "## Model Definition"
      ]
    },
    {
      "cell_type": "code",
      "execution_count": 210,
      "metadata": {
        "id": "lxAIFi1IuXzP"
      },
      "outputs": [],
      "source": [
        "# Clear Session\n",
        "\n",
        "seed = 20\n",
        "tf.keras.backend.clear_session()\n",
        "np.random.seed(seed)\n",
        "tf.random.set_seed(seed)"
      ]
    },
    {
      "cell_type": "code",
      "execution_count": 211,
      "metadata": {
        "colab": {
          "base_uri": "https://localhost:8080/"
        },
        "id": "vzsIjaRVusn4",
        "outputId": "d50bbde3-f7a5-4842-ce8b-bd7a25d1faee"
      },
      "outputs": [
        {
          "name": "stdout",
          "output_type": "stream",
          "text": [
            "Model: \"sequential\"\n",
            "_________________________________________________________________\n",
            " Layer (type)                Output Shape              Param #   \n",
            "=================================================================\n",
            " dense (Dense)               (None, 16)                256       \n",
            "                                                                 \n",
            " dense_1 (Dense)             (None, 8)                 136       \n",
            "                                                                 \n",
            " dense_2 (Dense)             (None, 1)                 9         \n",
            "                                                                 \n",
            "=================================================================\n",
            "Total params: 401\n",
            "Trainable params: 401\n",
            "Non-trainable params: 0\n",
            "_________________________________________________________________\n"
          ]
        }
      ],
      "source": [
        "# Create Sequential API\n",
        "\n",
        "model_sequential = Sequential()\n",
        "model_sequential.add(Dense(16,\n",
        "                           activation='relu',\n",
        "                           kernel_initializer=tf.keras.initializers.HeNormal(seed),\n",
        "                           input_shape=(15,))) # Hidden Layer 1\n",
        "model_sequential.add(Dense(8,\n",
        "                           activation='relu',\n",
        "                           kernel_initializer=tf.keras.initializers.HeNormal(seed))) # Hidden Layer 2\n",
        "model_sequential.add(Dense(1,\n",
        "                           activation='sigmoid',\n",
        "                           kernel_initializer=tf.keras.initializers.GlorotNormal(seed))) # Output Layer\n",
        "\n",
        "# Compile\n",
        "model_sequential.compile(loss='binary_crossentropy',\n",
        "                         optimizer='adam',\n",
        "                         metrics=['accuracy'])\n",
        "model_sequential.summary()"
      ]
    },
    {
      "cell_type": "code",
      "execution_count": 212,
      "metadata": {
        "colab": {
          "base_uri": "https://localhost:8080/",
          "height": 422
        },
        "id": "WJHVZpyrzpxE",
        "outputId": "41e33ec9-e31a-46fb-afdd-a3459db8338a"
      },
      "outputs": [
        {
          "data": {
            "image/png": "[encoded data removed]",
            "text/plain": [
              "<IPython.core.display.Image object>"
            ]
          },
          "execution_count": 212,
          "metadata": {},
          "output_type": "execute_result"
        }
      ],
      "source": [
        "# Plot Layers\n",
        "\n",
        "tf.keras.utils.plot_model(model_sequential, show_shapes=True)"
      ]
    },
    {
      "cell_type": "markdown",
      "metadata": {
        "id": "kECwg1Bdz28D"
      },
      "source": [
        "##  Model Training"
      ]
    },
    {
      "cell_type": "code",
      "execution_count": 213,
      "metadata": {
        "colab": {
          "base_uri": "https://localhost:8080/"
        },
        "id": "BtBUgQGlz-WW",
        "outputId": "56f2f892-780e-4f74-90c3-4f2d9f39a09c"
      },
      "outputs": [
        {
          "name": "stdout",
          "output_type": "stream",
          "text": [
            "Epoch 1/30\n",
            "2670/2670 [==============================] - 7s 2ms/step - loss: 0.5550 - accuracy: 0.7300 - val_loss: 0.5225 - val_accuracy: 0.7519\n",
            "Epoch 2/30\n",
            "2670/2670 [==============================] - 6s 2ms/step - loss: 0.5113 - accuracy: 0.7632 - val_loss: 0.5082 - val_accuracy: 0.7615\n",
            "Epoch 3/30\n",
            "2670/2670 [==============================] - 6s 2ms/step - loss: 0.4975 - accuracy: 0.7729 - val_loss: 0.4938 - val_accuracy: 0.7757\n",
            "Epoch 4/30\n",
            "2670/2670 [==============================] - 6s 2ms/step - loss: 0.4828 - accuracy: 0.7825 - val_loss: 0.4809 - val_accuracy: 0.7812\n",
            "Epoch 5/30\n",
            "2670/2670 [==============================] - 6s 2ms/step - loss: 0.4552 - accuracy: 0.7912 - val_loss: 0.4317 - val_accuracy: 0.7984\n",
            "Epoch 6/30\n",
            "2670/2670 [==============================] - 6s 2ms/step - loss: 0.3914 - accuracy: 0.8326 - val_loss: 0.3614 - val_accuracy: 0.8544\n",
            "Epoch 7/30\n",
            "2670/2670 [==============================] - 6s 2ms/step - loss: 0.3463 - accuracy: 0.8654 - val_loss: 0.3309 - val_accuracy: 0.8688\n",
            "Epoch 8/30\n",
            "2670/2670 [==============================] - 6s 2ms/step - loss: 0.3182 - accuracy: 0.8736 - val_loss: 0.3075 - val_accuracy: 0.8799\n",
            "Epoch 9/30\n",
            "2670/2670 [==============================] - 6s 2ms/step - loss: 0.2940 - accuracy: 0.8845 - val_loss: 0.2913 - val_accuracy: 0.8867\n",
            "Epoch 10/30\n",
            "2670/2670 [==============================] - 6s 2ms/step - loss: 0.2736 - accuracy: 0.8954 - val_loss: 0.2694 - val_accuracy: 0.8992\n",
            "Epoch 11/30\n",
            "2670/2670 [==============================] - 6s 2ms/step - loss: 0.2543 - accuracy: 0.9028 - val_loss: 0.2473 - val_accuracy: 0.9126\n",
            "Epoch 12/30\n",
            "2670/2670 [==============================] - 6s 2ms/step - loss: 0.2371 - accuracy: 0.9101 - val_loss: 0.2398 - val_accuracy: 0.9109\n",
            "Epoch 13/30\n",
            "2670/2670 [==============================] - 6s 2ms/step - loss: 0.2259 - accuracy: 0.9168 - val_loss: 0.2205 - val_accuracy: 0.9225\n",
            "Epoch 14/30\n",
            "2670/2670 [==============================] - 6s 2ms/step - loss: 0.2165 - accuracy: 0.9198 - val_loss: 0.2221 - val_accuracy: 0.9215\n",
            "Epoch 15/30\n",
            "2670/2670 [==============================] - 6s 2ms/step - loss: 0.2115 - accuracy: 0.9212 - val_loss: 0.2157 - val_accuracy: 0.9185\n",
            "Epoch 16/30\n",
            "2670/2670 [==============================] - 6s 2ms/step - loss: 0.2062 - accuracy: 0.9219 - val_loss: 0.2116 - val_accuracy: 0.9196\n",
            "Epoch 17/30\n",
            "2670/2670 [==============================] - 6s 2ms/step - loss: 0.2027 - accuracy: 0.9240 - val_loss: 0.2123 - val_accuracy: 0.9206\n",
            "Epoch 18/30\n",
            "2670/2670 [==============================] - 6s 2ms/step - loss: 0.2000 - accuracy: 0.9241 - val_loss: 0.2025 - val_accuracy: 0.9234\n",
            "Epoch 19/30\n",
            "2670/2670 [==============================] - 6s 2ms/step - loss: 0.1974 - accuracy: 0.9244 - val_loss: 0.2023 - val_accuracy: 0.9249\n",
            "Epoch 20/30\n",
            "2670/2670 [==============================] - 6s 2ms/step - loss: 0.1960 - accuracy: 0.9252 - val_loss: 0.2008 - val_accuracy: 0.9217\n",
            "Epoch 21/30\n",
            "2670/2670 [==============================] - 6s 2ms/step - loss: 0.1942 - accuracy: 0.9261 - val_loss: 0.2032 - val_accuracy: 0.9202\n",
            "Epoch 22/30\n",
            "2670/2670 [==============================] - 7s 3ms/step - loss: 0.1938 - accuracy: 0.9252 - val_loss: 0.1950 - val_accuracy: 0.9272\n",
            "Epoch 23/30\n",
            "2670/2670 [==============================] - 7s 3ms/step - loss: 0.1913 - accuracy: 0.9261 - val_loss: 0.1986 - val_accuracy: 0.9266\n",
            "Epoch 24/30\n",
            "2670/2670 [==============================] - 7s 3ms/step - loss: 0.1902 - accuracy: 0.9267 - val_loss: 0.1936 - val_accuracy: 0.9244\n",
            "Epoch 25/30\n",
            "2670/2670 [==============================] - 7s 3ms/step - loss: 0.1892 - accuracy: 0.9268 - val_loss: 0.1958 - val_accuracy: 0.9257\n",
            "Epoch 26/30\n",
            "2670/2670 [==============================] - 7s 3ms/step - loss: 0.1894 - accuracy: 0.9279 - val_loss: 0.1955 - val_accuracy: 0.9268\n",
            "Epoch 27/30\n",
            "2670/2670 [==============================] - 7s 3ms/step - loss: 0.1884 - accuracy: 0.9267 - val_loss: 0.1895 - val_accuracy: 0.9289\n",
            "Epoch 28/30\n",
            "2670/2670 [==============================] - 7s 3ms/step - loss: 0.1865 - accuracy: 0.9277 - val_loss: 0.1966 - val_accuracy: 0.9225\n",
            "Epoch 29/30\n",
            "2670/2670 [==============================] - 6s 2ms/step - loss: 0.1863 - accuracy: 0.9290 - val_loss: 0.1951 - val_accuracy: 0.9253\n",
            "Epoch 30/30\n",
            "2670/2670 [==============================] - 6s 2ms/step - loss: 0.1858 - accuracy: 0.9295 - val_loss: 0.1965 - val_accuracy: 0.9255\n"
          ]
        }
      ],
      "source": [
        "# Train the Model\n",
        "\n",
        "history_seq = model_sequential.fit(X_train,\n",
        "                                   y_train,\n",
        "                                   epochs=30,\n",
        "                                   validation_data=(X_val, y_val),\n",
        "                                   batch_size=10)"
      ]
    },
    {
      "cell_type": "markdown",
      "metadata": {},
      "source": [
        "## Model Improvement"
      ]
    },
    {
      "cell_type": "code",
      "execution_count": 214,
      "metadata": {},
      "outputs": [],
      "source": [
        "# Clear Session\n",
        "\n",
        "seed = 20\n",
        "tf.keras.backend.clear_session()\n",
        "np.random.seed(seed)\n",
        "tf.random.set_seed(seed)"
      ]
    },
    {
      "cell_type": "code",
      "execution_count": 215,
      "metadata": {},
      "outputs": [
        {
          "name": "stdout",
          "output_type": "stream",
          "text": [
            "Model: \"sequential\"\n",
            "_________________________________________________________________\n",
            " Layer (type)                Output Shape              Param #   \n",
            "=================================================================\n",
            " dense (Dense)               (None, 16)                256       \n",
            "                                                                 \n",
            " dense_1 (Dense)             (None, 8)                 136       \n",
            "                                                                 \n",
            " dense_2 (Dense)             (None, 4)                 36        \n",
            "                                                                 \n",
            " dense_3 (Dense)             (None, 1)                 5         \n",
            "                                                                 \n",
            "=================================================================\n",
            "Total params: 433\n",
            "Trainable params: 433\n",
            "Non-trainable params: 0\n",
            "_________________________________________________________________\n"
          ]
        }
      ],
      "source": [
        "# Create Sequential API\n",
        "\n",
        "model_sequential2 = Sequential()\n",
        "model_sequential2.add(Dense(16,\n",
        "                           activation='relu',\n",
        "                           kernel_initializer=tf.keras.initializers.HeNormal(seed),\n",
        "                           input_shape=(15,))) # Hidden Layer 1\n",
        "model_sequential2.add(Dense(8,\n",
        "                           activation='relu',\n",
        "                           kernel_initializer=tf.keras.initializers.HeNormal(seed))) # Hidden Layer 2\n",
        "model_sequential2.add(Dense(4,\n",
        "                           activation='relu',\n",
        "                           kernel_initializer=tf.keras.initializers.HeNormal(seed))) # Hidden Layer 3\n",
        "model_sequential2.add(Dense(1,\n",
        "                           activation='sigmoid',\n",
        "                           kernel_initializer=tf.keras.initializers.GlorotNormal(seed))) # Output Layer\n",
        "\n",
        "# Compile\n",
        "model_sequential2.compile(loss='binary_crossentropy',\n",
        "                         optimizer='adam',\n",
        "                         metrics=['accuracy'])\n",
        "model_sequential2.summary()"
      ]
    },
    {
      "cell_type": "code",
      "execution_count": 216,
      "metadata": {},
      "outputs": [
        {
          "name": "stdout",
          "output_type": "stream",
          "text": [
            "Epoch 1/30\n",
            "2670/2670 [==============================] - 9s 3ms/step - loss: 0.5555 - accuracy: 0.7156 - val_loss: 0.5183 - val_accuracy: 0.7553\n",
            "Epoch 2/30\n",
            "2670/2670 [==============================] - 7s 2ms/step - loss: 0.5124 - accuracy: 0.7600 - val_loss: 0.5068 - val_accuracy: 0.7649\n",
            "Epoch 3/30\n",
            "2670/2670 [==============================] - 7s 2ms/step - loss: 0.4968 - accuracy: 0.7755 - val_loss: 0.4858 - val_accuracy: 0.7859\n",
            "Epoch 4/30\n",
            "2670/2670 [==============================] - 7s 3ms/step - loss: 0.4394 - accuracy: 0.8056 - val_loss: 0.3890 - val_accuracy: 0.8207\n",
            "Epoch 5/30\n",
            "2670/2670 [==============================] - 7s 3ms/step - loss: 0.3296 - accuracy: 0.8498 - val_loss: 0.3373 - val_accuracy: 0.8453\n",
            "Epoch 6/30\n",
            "2670/2670 [==============================] - 7s 3ms/step - loss: 0.2927 - accuracy: 0.8604 - val_loss: 0.2884 - val_accuracy: 0.8644\n",
            "Epoch 7/30\n",
            "2670/2670 [==============================] - 7s 2ms/step - loss: 0.2825 - accuracy: 0.8671 - val_loss: 0.2832 - val_accuracy: 0.8790\n",
            "Epoch 8/30\n",
            "2670/2670 [==============================] - 7s 2ms/step - loss: 0.2739 - accuracy: 0.8775 - val_loss: 0.2787 - val_accuracy: 0.8754\n",
            "Epoch 9/30\n",
            "2670/2670 [==============================] - 7s 2ms/step - loss: 0.2668 - accuracy: 0.8854 - val_loss: 0.2650 - val_accuracy: 0.8831\n",
            "Epoch 10/30\n",
            "2670/2670 [==============================] - 7s 2ms/step - loss: 0.2579 - accuracy: 0.8915 - val_loss: 0.2464 - val_accuracy: 0.9015\n",
            "Epoch 11/30\n",
            "2670/2670 [==============================] - 7s 2ms/step - loss: 0.2376 - accuracy: 0.9061 - val_loss: 0.2227 - val_accuracy: 0.9164\n",
            "Epoch 12/30\n",
            "2670/2670 [==============================] - 7s 2ms/step - loss: 0.2204 - accuracy: 0.9129 - val_loss: 0.2130 - val_accuracy: 0.9140\n",
            "Epoch 13/30\n",
            "2670/2670 [==============================] - 7s 2ms/step - loss: 0.2129 - accuracy: 0.9140 - val_loss: 0.2040 - val_accuracy: 0.9204\n",
            "Epoch 14/30\n",
            "2670/2670 [==============================] - 6s 2ms/step - loss: 0.2073 - accuracy: 0.9165 - val_loss: 0.2071 - val_accuracy: 0.9153\n",
            "Epoch 15/30\n",
            "2670/2670 [==============================] - 7s 2ms/step - loss: 0.2059 - accuracy: 0.9157 - val_loss: 0.1980 - val_accuracy: 0.9215\n",
            "Epoch 16/30\n",
            "2670/2670 [==============================] - 7s 2ms/step - loss: 0.2026 - accuracy: 0.9168 - val_loss: 0.2060 - val_accuracy: 0.9166\n",
            "Epoch 17/30\n",
            "2670/2670 [==============================] - 7s 2ms/step - loss: 0.2000 - accuracy: 0.9182 - val_loss: 0.2112 - val_accuracy: 0.9149\n",
            "Epoch 18/30\n",
            "2670/2670 [==============================] - 7s 2ms/step - loss: 0.1997 - accuracy: 0.9185 - val_loss: 0.1957 - val_accuracy: 0.9225\n",
            "Epoch 19/30\n",
            "2670/2670 [==============================] - 7s 2ms/step - loss: 0.1979 - accuracy: 0.9185 - val_loss: 0.2107 - val_accuracy: 0.9170\n",
            "Epoch 20/30\n",
            "2670/2670 [==============================] - 7s 2ms/step - loss: 0.1961 - accuracy: 0.9195 - val_loss: 0.1945 - val_accuracy: 0.9208\n",
            "Epoch 21/30\n",
            "2670/2670 [==============================] - 7s 2ms/step - loss: 0.1961 - accuracy: 0.9189 - val_loss: 0.1986 - val_accuracy: 0.9172\n",
            "Epoch 22/30\n",
            "2670/2670 [==============================] - 7s 2ms/step - loss: 0.1950 - accuracy: 0.9205 - val_loss: 0.1949 - val_accuracy: 0.9204\n",
            "Epoch 23/30\n",
            "2670/2670 [==============================] - 7s 2ms/step - loss: 0.1933 - accuracy: 0.9199 - val_loss: 0.1961 - val_accuracy: 0.9194\n",
            "Epoch 24/30\n",
            "2670/2670 [==============================] - 7s 2ms/step - loss: 0.1913 - accuracy: 0.9204 - val_loss: 0.1933 - val_accuracy: 0.9208\n",
            "Epoch 25/30\n",
            "2670/2670 [==============================] - 7s 2ms/step - loss: 0.1908 - accuracy: 0.9195 - val_loss: 0.1919 - val_accuracy: 0.9223\n",
            "Epoch 26/30\n",
            "2670/2670 [==============================] - 7s 3ms/step - loss: 0.1903 - accuracy: 0.9190 - val_loss: 0.1921 - val_accuracy: 0.9208\n",
            "Epoch 27/30\n",
            "2670/2670 [==============================] - 7s 3ms/step - loss: 0.1895 - accuracy: 0.9195 - val_loss: 0.1977 - val_accuracy: 0.9164\n",
            "Epoch 28/30\n",
            "2670/2670 [==============================] - 7s 3ms/step - loss: 0.1877 - accuracy: 0.9197 - val_loss: 0.1947 - val_accuracy: 0.9196\n",
            "Epoch 29/30\n",
            "2670/2670 [==============================] - 7s 2ms/step - loss: 0.1868 - accuracy: 0.9201 - val_loss: 0.1888 - val_accuracy: 0.9208\n",
            "Epoch 30/30\n",
            "2670/2670 [==============================] - 7s 2ms/step - loss: 0.1855 - accuracy: 0.9215 - val_loss: 0.1908 - val_accuracy: 0.9217\n"
          ]
        }
      ],
      "source": [
        "history_seq2 = model_sequential2.fit(X_train,\n",
        "                                   y_train,\n",
        "                                   epochs=30,\n",
        "                                   validation_data=(X_val, y_val),\n",
        "                                   batch_size=10)"
      ]
    },
    {
      "cell_type": "markdown",
      "metadata": {
        "id": "IwbW5q5B3DMO"
      },
      "source": [
        "## Model Evaluation"
      ]
    },
    {
      "cell_type": "code",
      "execution_count": 217,
      "metadata": {
        "colab": {
          "base_uri": "https://localhost:8080/",
          "height": 677
        },
        "id": "JGENDqVu3HG4",
        "outputId": "56443163-9785-44b0-886d-19dbbaaa0a65"
      },
      "outputs": [
        {
          "data": {
            "text/html": [
              "<div>\n",
              "<style scoped>\n",
              "    .dataframe tbody tr th:only-of-type {\n",
              "        vertical-align: middle;\n",
              "    }\n",
              "\n",
              "    .dataframe tbody tr th {\n",
              "        vertical-align: top;\n",
              "    }\n",
              "\n",
              "    .dataframe thead th {\n",
              "        text-align: right;\n",
              "    }\n",
              "</style>\n",
              "<table border=\"1\" class=\"dataframe\">\n",
              "  <thead>\n",
              "    <tr style=\"text-align: right;\">\n",
              "      <th></th>\n",
              "      <th>loss</th>\n",
              "      <th>accuracy</th>\n",
              "      <th>val_loss</th>\n",
              "      <th>val_accuracy</th>\n",
              "    </tr>\n",
              "  </thead>\n",
              "  <tbody>\n",
              "    <tr>\n",
              "      <th>0</th>\n",
              "      <td>0.554985</td>\n",
              "      <td>0.729997</td>\n",
              "      <td>0.522511</td>\n",
              "      <td>0.751910</td>\n",
              "    </tr>\n",
              "    <tr>\n",
              "      <th>1</th>\n",
              "      <td>0.511327</td>\n",
              "      <td>0.763223</td>\n",
              "      <td>0.508198</td>\n",
              "      <td>0.761460</td>\n",
              "    </tr>\n",
              "    <tr>\n",
              "      <th>2</th>\n",
              "      <td>0.497511</td>\n",
              "      <td>0.772925</td>\n",
              "      <td>0.493838</td>\n",
              "      <td>0.775679</td>\n",
              "    </tr>\n",
              "    <tr>\n",
              "      <th>3</th>\n",
              "      <td>0.482823</td>\n",
              "      <td>0.782514</td>\n",
              "      <td>0.480944</td>\n",
              "      <td>0.781197</td>\n",
              "    </tr>\n",
              "    <tr>\n",
              "      <th>4</th>\n",
              "      <td>0.455167</td>\n",
              "      <td>0.791205</td>\n",
              "      <td>0.431673</td>\n",
              "      <td>0.798387</td>\n",
              "    </tr>\n",
              "    <tr>\n",
              "      <th>5</th>\n",
              "      <td>0.391439</td>\n",
              "      <td>0.832559</td>\n",
              "      <td>0.361393</td>\n",
              "      <td>0.854414</td>\n",
              "    </tr>\n",
              "    <tr>\n",
              "      <th>6</th>\n",
              "      <td>0.346334</td>\n",
              "      <td>0.865448</td>\n",
              "      <td>0.330927</td>\n",
              "      <td>0.868846</td>\n",
              "    </tr>\n",
              "    <tr>\n",
              "      <th>7</th>\n",
              "      <td>0.318174</td>\n",
              "      <td>0.873614</td>\n",
              "      <td>0.307539</td>\n",
              "      <td>0.879881</td>\n",
              "    </tr>\n",
              "    <tr>\n",
              "      <th>8</th>\n",
              "      <td>0.294044</td>\n",
              "      <td>0.884477</td>\n",
              "      <td>0.291296</td>\n",
              "      <td>0.886672</td>\n",
              "    </tr>\n",
              "    <tr>\n",
              "      <th>9</th>\n",
              "      <td>0.273595</td>\n",
              "      <td>0.895415</td>\n",
              "      <td>0.269449</td>\n",
              "      <td>0.899194</td>\n",
              "    </tr>\n",
              "    <tr>\n",
              "      <th>10</th>\n",
              "      <td>0.254326</td>\n",
              "      <td>0.902794</td>\n",
              "      <td>0.247305</td>\n",
              "      <td>0.912564</td>\n",
              "    </tr>\n",
              "    <tr>\n",
              "      <th>11</th>\n",
              "      <td>0.237143</td>\n",
              "      <td>0.910136</td>\n",
              "      <td>0.239813</td>\n",
              "      <td>0.910866</td>\n",
              "    </tr>\n",
              "    <tr>\n",
              "      <th>12</th>\n",
              "      <td>0.225932</td>\n",
              "      <td>0.916804</td>\n",
              "      <td>0.220502</td>\n",
              "      <td>0.922538</td>\n",
              "    </tr>\n",
              "    <tr>\n",
              "      <th>13</th>\n",
              "      <td>0.216526</td>\n",
              "      <td>0.919763</td>\n",
              "      <td>0.222109</td>\n",
              "      <td>0.921477</td>\n",
              "    </tr>\n",
              "    <tr>\n",
              "      <th>14</th>\n",
              "      <td>0.211512</td>\n",
              "      <td>0.921224</td>\n",
              "      <td>0.215651</td>\n",
              "      <td>0.918506</td>\n",
              "    </tr>\n",
              "    <tr>\n",
              "      <th>15</th>\n",
              "      <td>0.206224</td>\n",
              "      <td>0.921861</td>\n",
              "      <td>0.211557</td>\n",
              "      <td>0.919567</td>\n",
              "    </tr>\n",
              "    <tr>\n",
              "      <th>16</th>\n",
              "      <td>0.202696</td>\n",
              "      <td>0.923959</td>\n",
              "      <td>0.212344</td>\n",
              "      <td>0.920628</td>\n",
              "    </tr>\n",
              "    <tr>\n",
              "      <th>17</th>\n",
              "      <td>0.199950</td>\n",
              "      <td>0.924146</td>\n",
              "      <td>0.202502</td>\n",
              "      <td>0.923387</td>\n",
              "    </tr>\n",
              "    <tr>\n",
              "      <th>18</th>\n",
              "      <td>0.197394</td>\n",
              "      <td>0.924408</td>\n",
              "      <td>0.202323</td>\n",
              "      <td>0.924873</td>\n",
              "    </tr>\n",
              "    <tr>\n",
              "      <th>19</th>\n",
              "      <td>0.196022</td>\n",
              "      <td>0.925195</td>\n",
              "      <td>0.200829</td>\n",
              "      <td>0.921689</td>\n",
              "    </tr>\n",
              "    <tr>\n",
              "      <th>20</th>\n",
              "      <td>0.194166</td>\n",
              "      <td>0.926056</td>\n",
              "      <td>0.203175</td>\n",
              "      <td>0.920204</td>\n",
              "    </tr>\n",
              "    <tr>\n",
              "      <th>21</th>\n",
              "      <td>0.193836</td>\n",
              "      <td>0.925195</td>\n",
              "      <td>0.194989</td>\n",
              "      <td>0.927207</td>\n",
              "    </tr>\n",
              "    <tr>\n",
              "      <th>22</th>\n",
              "      <td>0.191292</td>\n",
              "      <td>0.926056</td>\n",
              "      <td>0.198559</td>\n",
              "      <td>0.926570</td>\n",
              "    </tr>\n",
              "    <tr>\n",
              "      <th>23</th>\n",
              "      <td>0.190159</td>\n",
              "      <td>0.926731</td>\n",
              "      <td>0.193622</td>\n",
              "      <td>0.924448</td>\n",
              "    </tr>\n",
              "    <tr>\n",
              "      <th>24</th>\n",
              "      <td>0.189170</td>\n",
              "      <td>0.926768</td>\n",
              "      <td>0.195792</td>\n",
              "      <td>0.925722</td>\n",
              "    </tr>\n",
              "    <tr>\n",
              "      <th>25</th>\n",
              "      <td>0.189395</td>\n",
              "      <td>0.927854</td>\n",
              "      <td>0.195478</td>\n",
              "      <td>0.926783</td>\n",
              "    </tr>\n",
              "    <tr>\n",
              "      <th>26</th>\n",
              "      <td>0.188384</td>\n",
              "      <td>0.926656</td>\n",
              "      <td>0.189525</td>\n",
              "      <td>0.928905</td>\n",
              "    </tr>\n",
              "    <tr>\n",
              "      <th>27</th>\n",
              "      <td>0.186544</td>\n",
              "      <td>0.927667</td>\n",
              "      <td>0.196631</td>\n",
              "      <td>0.922538</td>\n",
              "    </tr>\n",
              "    <tr>\n",
              "      <th>28</th>\n",
              "      <td>0.186345</td>\n",
              "      <td>0.928978</td>\n",
              "      <td>0.195078</td>\n",
              "      <td>0.925297</td>\n",
              "    </tr>\n",
              "    <tr>\n",
              "      <th>29</th>\n",
              "      <td>0.185835</td>\n",
              "      <td>0.929540</td>\n",
              "      <td>0.196486</td>\n",
              "      <td>0.925509</td>\n",
              "    </tr>\n",
              "  </tbody>\n",
              "</table>\n",
              "</div>"
            ],
            "text/plain": [
              "        loss  accuracy  val_loss  val_accuracy\n",
              "0   0.554985  0.729997  0.522511      0.751910\n",
              "1   0.511327  0.763223  0.508198      0.761460\n",
              "2   0.497511  0.772925  0.493838      0.775679\n",
              "3   0.482823  0.782514  0.480944      0.781197\n",
              "4   0.455167  0.791205  0.431673      0.798387\n",
              "5   0.391439  0.832559  0.361393      0.854414\n",
              "6   0.346334  0.865448  0.330927      0.868846\n",
              "7   0.318174  0.873614  0.307539      0.879881\n",
              "8   0.294044  0.884477  0.291296      0.886672\n",
              "9   0.273595  0.895415  0.269449      0.899194\n",
              "10  0.254326  0.902794  0.247305      0.912564\n",
              "11  0.237143  0.910136  0.239813      0.910866\n",
              "12  0.225932  0.916804  0.220502      0.922538\n",
              "13  0.216526  0.919763  0.222109      0.921477\n",
              "14  0.211512  0.921224  0.215651      0.918506\n",
              "15  0.206224  0.921861  0.211557      0.919567\n",
              "16  0.202696  0.923959  0.212344      0.920628\n",
              "17  0.199950  0.924146  0.202502      0.923387\n",
              "18  0.197394  0.924408  0.202323      0.924873\n",
              "19  0.196022  0.925195  0.200829      0.921689\n",
              "20  0.194166  0.926056  0.203175      0.920204\n",
              "21  0.193836  0.925195  0.194989      0.927207\n",
              "22  0.191292  0.926056  0.198559      0.926570\n",
              "23  0.190159  0.926731  0.193622      0.924448\n",
              "24  0.189170  0.926768  0.195792      0.925722\n",
              "25  0.189395  0.927854  0.195478      0.926783\n",
              "26  0.188384  0.926656  0.189525      0.928905\n",
              "27  0.186544  0.927667  0.196631      0.922538\n",
              "28  0.186345  0.928978  0.195078      0.925297\n",
              "29  0.185835  0.929540  0.196486      0.925509"
            ]
          },
          "execution_count": 217,
          "metadata": {},
          "output_type": "execute_result"
        }
      ],
      "source": [
        "# Create DataFrame\n",
        "\n",
        "history_seq_df = pd.DataFrame(history_seq.history)\n",
        "history_seq_df"
      ]
    },
    {
      "cell_type": "code",
      "execution_count": 218,
      "metadata": {},
      "outputs": [
        {
          "data": {
            "text/html": [
              "<div>\n",
              "<style scoped>\n",
              "    .dataframe tbody tr th:only-of-type {\n",
              "        vertical-align: middle;\n",
              "    }\n",
              "\n",
              "    .dataframe tbody tr th {\n",
              "        vertical-align: top;\n",
              "    }\n",
              "\n",
              "    .dataframe thead th {\n",
              "        text-align: right;\n",
              "    }\n",
              "</style>\n",
              "<table border=\"1\" class=\"dataframe\">\n",
              "  <thead>\n",
              "    <tr style=\"text-align: right;\">\n",
              "      <th></th>\n",
              "      <th>loss</th>\n",
              "      <th>accuracy</th>\n",
              "      <th>val_loss</th>\n",
              "      <th>val_accuracy</th>\n",
              "    </tr>\n",
              "  </thead>\n",
              "  <tbody>\n",
              "    <tr>\n",
              "      <th>0</th>\n",
              "      <td>0.555485</td>\n",
              "      <td>0.715575</td>\n",
              "      <td>0.518251</td>\n",
              "      <td>0.755306</td>\n",
              "    </tr>\n",
              "    <tr>\n",
              "      <th>1</th>\n",
              "      <td>0.512426</td>\n",
              "      <td>0.760001</td>\n",
              "      <td>0.506757</td>\n",
              "      <td>0.764856</td>\n",
              "    </tr>\n",
              "    <tr>\n",
              "      <th>2</th>\n",
              "      <td>0.496777</td>\n",
              "      <td>0.775547</td>\n",
              "      <td>0.485841</td>\n",
              "      <td>0.785866</td>\n",
              "    </tr>\n",
              "    <tr>\n",
              "      <th>3</th>\n",
              "      <td>0.439396</td>\n",
              "      <td>0.805551</td>\n",
              "      <td>0.389041</td>\n",
              "      <td>0.820671</td>\n",
              "    </tr>\n",
              "    <tr>\n",
              "      <th>4</th>\n",
              "      <td>0.329559</td>\n",
              "      <td>0.849753</td>\n",
              "      <td>0.337252</td>\n",
              "      <td>0.845289</td>\n",
              "    </tr>\n",
              "    <tr>\n",
              "      <th>5</th>\n",
              "      <td>0.292749</td>\n",
              "      <td>0.860391</td>\n",
              "      <td>0.288365</td>\n",
              "      <td>0.864389</td>\n",
              "    </tr>\n",
              "    <tr>\n",
              "      <th>6</th>\n",
              "      <td>0.282457</td>\n",
              "      <td>0.867059</td>\n",
              "      <td>0.283166</td>\n",
              "      <td>0.879032</td>\n",
              "    </tr>\n",
              "    <tr>\n",
              "      <th>7</th>\n",
              "      <td>0.273919</td>\n",
              "      <td>0.877547</td>\n",
              "      <td>0.278682</td>\n",
              "      <td>0.875424</td>\n",
              "    </tr>\n",
              "    <tr>\n",
              "      <th>8</th>\n",
              "      <td>0.266814</td>\n",
              "      <td>0.885376</td>\n",
              "      <td>0.265022</td>\n",
              "      <td>0.883065</td>\n",
              "    </tr>\n",
              "    <tr>\n",
              "      <th>9</th>\n",
              "      <td>0.257943</td>\n",
              "      <td>0.891482</td>\n",
              "      <td>0.246414</td>\n",
              "      <td>0.901528</td>\n",
              "    </tr>\n",
              "    <tr>\n",
              "      <th>10</th>\n",
              "      <td>0.237620</td>\n",
              "      <td>0.906091</td>\n",
              "      <td>0.222684</td>\n",
              "      <td>0.916384</td>\n",
              "    </tr>\n",
              "    <tr>\n",
              "      <th>11</th>\n",
              "      <td>0.220397</td>\n",
              "      <td>0.912871</td>\n",
              "      <td>0.213034</td>\n",
              "      <td>0.914049</td>\n",
              "    </tr>\n",
              "    <tr>\n",
              "      <th>12</th>\n",
              "      <td>0.212861</td>\n",
              "      <td>0.914032</td>\n",
              "      <td>0.203994</td>\n",
              "      <td>0.920416</td>\n",
              "    </tr>\n",
              "    <tr>\n",
              "      <th>13</th>\n",
              "      <td>0.207277</td>\n",
              "      <td>0.916504</td>\n",
              "      <td>0.207134</td>\n",
              "      <td>0.915323</td>\n",
              "    </tr>\n",
              "    <tr>\n",
              "      <th>14</th>\n",
              "      <td>0.205939</td>\n",
              "      <td>0.915680</td>\n",
              "      <td>0.197997</td>\n",
              "      <td>0.921477</td>\n",
              "    </tr>\n",
              "    <tr>\n",
              "      <th>15</th>\n",
              "      <td>0.202610</td>\n",
              "      <td>0.916841</td>\n",
              "      <td>0.206030</td>\n",
              "      <td>0.916596</td>\n",
              "    </tr>\n",
              "    <tr>\n",
              "      <th>16</th>\n",
              "      <td>0.200044</td>\n",
              "      <td>0.918227</td>\n",
              "      <td>0.211154</td>\n",
              "      <td>0.914898</td>\n",
              "    </tr>\n",
              "    <tr>\n",
              "      <th>17</th>\n",
              "      <td>0.199656</td>\n",
              "      <td>0.918527</td>\n",
              "      <td>0.195717</td>\n",
              "      <td>0.922538</td>\n",
              "    </tr>\n",
              "    <tr>\n",
              "      <th>18</th>\n",
              "      <td>0.197901</td>\n",
              "      <td>0.918527</td>\n",
              "      <td>0.210660</td>\n",
              "      <td>0.917020</td>\n",
              "    </tr>\n",
              "    <tr>\n",
              "      <th>19</th>\n",
              "      <td>0.196051</td>\n",
              "      <td>0.919538</td>\n",
              "      <td>0.194474</td>\n",
              "      <td>0.920840</td>\n",
              "    </tr>\n",
              "    <tr>\n",
              "      <th>20</th>\n",
              "      <td>0.196066</td>\n",
              "      <td>0.918902</td>\n",
              "      <td>0.198623</td>\n",
              "      <td>0.917233</td>\n",
              "    </tr>\n",
              "    <tr>\n",
              "      <th>21</th>\n",
              "      <td>0.194956</td>\n",
              "      <td>0.920475</td>\n",
              "      <td>0.194905</td>\n",
              "      <td>0.920416</td>\n",
              "    </tr>\n",
              "    <tr>\n",
              "      <th>22</th>\n",
              "      <td>0.193323</td>\n",
              "      <td>0.919913</td>\n",
              "      <td>0.196137</td>\n",
              "      <td>0.919355</td>\n",
              "    </tr>\n",
              "    <tr>\n",
              "      <th>23</th>\n",
              "      <td>0.191342</td>\n",
              "      <td>0.920438</td>\n",
              "      <td>0.193274</td>\n",
              "      <td>0.920840</td>\n",
              "    </tr>\n",
              "    <tr>\n",
              "      <th>24</th>\n",
              "      <td>0.190819</td>\n",
              "      <td>0.919538</td>\n",
              "      <td>0.191860</td>\n",
              "      <td>0.922326</td>\n",
              "    </tr>\n",
              "    <tr>\n",
              "      <th>25</th>\n",
              "      <td>0.190291</td>\n",
              "      <td>0.919014</td>\n",
              "      <td>0.192136</td>\n",
              "      <td>0.920840</td>\n",
              "    </tr>\n",
              "    <tr>\n",
              "      <th>26</th>\n",
              "      <td>0.189550</td>\n",
              "      <td>0.919464</td>\n",
              "      <td>0.197701</td>\n",
              "      <td>0.916384</td>\n",
              "    </tr>\n",
              "    <tr>\n",
              "      <th>27</th>\n",
              "      <td>0.187739</td>\n",
              "      <td>0.919726</td>\n",
              "      <td>0.194717</td>\n",
              "      <td>0.919567</td>\n",
              "    </tr>\n",
              "    <tr>\n",
              "      <th>28</th>\n",
              "      <td>0.186773</td>\n",
              "      <td>0.920063</td>\n",
              "      <td>0.188775</td>\n",
              "      <td>0.920840</td>\n",
              "    </tr>\n",
              "    <tr>\n",
              "      <th>29</th>\n",
              "      <td>0.185498</td>\n",
              "      <td>0.921486</td>\n",
              "      <td>0.190757</td>\n",
              "      <td>0.921689</td>\n",
              "    </tr>\n",
              "  </tbody>\n",
              "</table>\n",
              "</div>"
            ],
            "text/plain": [
              "        loss  accuracy  val_loss  val_accuracy\n",
              "0   0.555485  0.715575  0.518251      0.755306\n",
              "1   0.512426  0.760001  0.506757      0.764856\n",
              "2   0.496777  0.775547  0.485841      0.785866\n",
              "3   0.439396  0.805551  0.389041      0.820671\n",
              "4   0.329559  0.849753  0.337252      0.845289\n",
              "5   0.292749  0.860391  0.288365      0.864389\n",
              "6   0.282457  0.867059  0.283166      0.879032\n",
              "7   0.273919  0.877547  0.278682      0.875424\n",
              "8   0.266814  0.885376  0.265022      0.883065\n",
              "9   0.257943  0.891482  0.246414      0.901528\n",
              "10  0.237620  0.906091  0.222684      0.916384\n",
              "11  0.220397  0.912871  0.213034      0.914049\n",
              "12  0.212861  0.914032  0.203994      0.920416\n",
              "13  0.207277  0.916504  0.207134      0.915323\n",
              "14  0.205939  0.915680  0.197997      0.921477\n",
              "15  0.202610  0.916841  0.206030      0.916596\n",
              "16  0.200044  0.918227  0.211154      0.914898\n",
              "17  0.199656  0.918527  0.195717      0.922538\n",
              "18  0.197901  0.918527  0.210660      0.917020\n",
              "19  0.196051  0.919538  0.194474      0.920840\n",
              "20  0.196066  0.918902  0.198623      0.917233\n",
              "21  0.194956  0.920475  0.194905      0.920416\n",
              "22  0.193323  0.919913  0.196137      0.919355\n",
              "23  0.191342  0.920438  0.193274      0.920840\n",
              "24  0.190819  0.919538  0.191860      0.922326\n",
              "25  0.190291  0.919014  0.192136      0.920840\n",
              "26  0.189550  0.919464  0.197701      0.916384\n",
              "27  0.187739  0.919726  0.194717      0.919567\n",
              "28  0.186773  0.920063  0.188775      0.920840\n",
              "29  0.185498  0.921486  0.190757      0.921689"
            ]
          },
          "execution_count": 218,
          "metadata": {},
          "output_type": "execute_result"
        }
      ],
      "source": [
        "# Create DataFrame from ANN Improvement\n",
        "\n",
        "history_seq2_df = pd.DataFrame(history_seq2.history)\n",
        "history_seq2_df"
      ]
    },
    {
      "cell_type": "code",
      "execution_count": 219,
      "metadata": {
        "colab": {
          "base_uri": "https://localhost:8080/",
          "height": 862
        },
        "id": "lGkb2zDe357w",
        "outputId": "7e48b965-b4d8-4a1e-81b2-f9d113307234"
      },
      "outputs": [
        {
          "data": {
            "text/plain": [
              "<Axes: >"
            ]
          },
          "execution_count": 219,
          "metadata": {},
          "output_type": "execute_result"
        },
        {
          "data": {
            "image/png": "[encoded data removed]",
            "text/plain": [
              "<Figure size 640x480 with 1 Axes>"
            ]
          },
          "metadata": {},
          "output_type": "display_data"
        },
        {
          "data": {
            "image/png": "[encoded data removed]",
            "text/plain": [
              "<Figure size 640x480 with 1 Axes>"
            ]
          },
          "metadata": {},
          "output_type": "display_data"
        },
        {
          "data": {
            "image/png": "[encoded data removed]",
            "text/plain": [
              "<Figure size 640x480 with 1 Axes>"
            ]
          },
          "metadata": {},
          "output_type": "display_data"
        },
        {
          "data": {
            "image/png": "[encoded data removed]",
            "text/plain": [
              "<Figure size 640x480 with 1 Axes>"
            ]
          },
          "metadata": {},
          "output_type": "display_data"
        }
      ],
      "source": [
        "# Plot Training Results\n",
        "\n",
        "history_seq_df[['accuracy', 'val_accuracy']].plot()\n",
        "history_seq_df[['loss', 'val_loss']].plot()\n",
        "history_seq2_df[['accuracy', 'val_accuracy']].plot()\n",
        "history_seq2_df[['loss', 'val_loss']].plot()"
      ]
    },
    {
      "cell_type": "code",
      "execution_count": 220,
      "metadata": {
        "colab": {
          "base_uri": "https://localhost:8080/"
        },
        "id": "zd0aemj85kow",
        "outputId": "bfd672b0-3f28-4015-a2e6-702275999267"
      },
      "outputs": [
        {
          "name": "stdout",
          "output_type": "stream",
          "text": [
            "174/174 [==============================] - 0s 2ms/step\n",
            "174/174 [==============================] - 0s 2ms/step\n",
            "              precision    recall  f1-score   support\n",
            "\n",
            "           0       0.89      0.94      0.92      2574\n",
            "           1       0.95      0.90      0.92      2969\n",
            "\n",
            "    accuracy                           0.92      5543\n",
            "   macro avg       0.92      0.92      0.92      5543\n",
            "weighted avg       0.92      0.92      0.92      5543\n",
            "\n",
            "              precision    recall  f1-score   support\n",
            "\n",
            "           0       0.90      0.93      0.91      2574\n",
            "           1       0.94      0.91      0.92      2969\n",
            "\n",
            "    accuracy                           0.92      5543\n",
            "   macro avg       0.92      0.92      0.92      5543\n",
            "weighted avg       0.92      0.92      0.92      5543\n",
            "\n"
          ]
        }
      ],
      "source": [
        "# Model Evaluation of test-set\n",
        "\n",
        "y_pred_seq = model_sequential.predict(X_test)\n",
        "y_pred_seq = np.where(y_pred_seq >= 0.5, 1, 0)\n",
        "y_pred_seq2 = model_sequential2.predict(X_test)\n",
        "y_pred_seq2 = np.where(y_pred_seq2 >= 0.5, 1, 0)\n",
        "\n",
        "print(classification_report(y_test, y_pred_seq))\n",
        "print(classification_report(y_test, y_pred_seq2))"
      ]
    },
    {
      "cell_type": "markdown",
      "metadata": {
        "id": "3_GocWmk7A88"
      },
      "source": [
        "# Functional API"
      ]
    },
    {
      "cell_type": "markdown",
      "metadata": {
        "id": "ZPxgHKt17DIy"
      },
      "source": [
        "## Model Definition"
      ]
    },
    {
      "cell_type": "code",
      "execution_count": 221,
      "metadata": {
        "id": "VoFAqlSk7FeA"
      },
      "outputs": [],
      "source": [
        "# Clear Session\n",
        "\n",
        "seed = 20\n",
        "tf.keras.backend.clear_session()\n",
        "np.random.seed(seed)\n",
        "tf.random.set_seed(seed)"
      ]
    },
    {
      "cell_type": "code",
      "execution_count": 222,
      "metadata": {
        "colab": {
          "base_uri": "https://localhost:8080/"
        },
        "id": "uWs3IN5p7LFS",
        "outputId": "2193fbc4-44d7-4ec2-904c-345ce342893b"
      },
      "outputs": [
        {
          "name": "stdout",
          "output_type": "stream",
          "text": [
            "Model: \"model\"\n",
            "__________________________________________________________________________________________________\n",
            " Layer (type)                   Output Shape         Param #     Connected to                     \n",
            "==================================================================================================\n",
            " input_1 (InputLayer)           [(None, 15)]         0           []                               \n",
            "                                                                                                  \n",
            " dense (Dense)                  (None, 16)           256         ['input_1[0][0]']                \n",
            "                                                                                                  \n",
            " dense_1 (Dense)                (None, 8)            136         ['dense[0][0]']                  \n",
            "                                                                                                  \n",
            " concatenate (Concatenate)      (None, 23)           0           ['input_1[0][0]',                \n",
            "                                                                  'dense_1[0][0]']                \n",
            "                                                                                                  \n",
            " dense_2 (Dense)                (None, 1)            24          ['concatenate[0][0]']            \n",
            "                                                                                                  \n",
            "==================================================================================================\n",
            "Total params: 416\n",
            "Trainable params: 416\n",
            "Non-trainable params: 0\n",
            "__________________________________________________________________________________________________\n"
          ]
        }
      ],
      "source": [
        "# Create Functional Model\n",
        "\n",
        "input_layer = Input(shape=(15,))\n",
        "hidden_layer_1 = Dense(16, activation='relu', kernel_initializer=tf.keras.initializers.HeNormal(seed))(input_layer)\n",
        "hidden_layer_2 = Dense(8, activation='relu', kernel_initializer=tf.keras.initializers.HeNormal(seed))(hidden_layer_1)\n",
        "\n",
        "concat_layer = concatenate([input_layer, hidden_layer_2])\n",
        "output_layer = Dense(1, activation='sigmoid', kernel_initializer=tf.keras.initializers.GlorotNormal(seed))(concat_layer)\n",
        "\n",
        "model_functional = Model(inputs=input_layer, outputs=output_layer)\n",
        "\n",
        "# Compile\n",
        "model_functional.compile(loss='binary_crossentropy',\n",
        "                         optimizer='adam',\n",
        "                         metrics='accuracy')\n",
        "model_functional.summary()"
      ]
    },
    {
      "cell_type": "code",
      "execution_count": 223,
      "metadata": {
        "colab": {
          "base_uri": "https://localhost:8080/",
          "height": 533
        },
        "id": "_dBCa1qZ88yl",
        "outputId": "7c73ce4a-2111-4f9c-ec8c-5decf7261b78"
      },
      "outputs": [
        {
          "data": {
            "image/png": "[encoded data removed]",
            "text/plain": [
              "<IPython.core.display.Image object>"
            ]
          },
          "execution_count": 223,
          "metadata": {},
          "output_type": "execute_result"
        }
      ],
      "source": [
        "# Plot Layers\n",
        "\n",
        "tf.keras.utils.plot_model(model_functional, show_shapes=True)"
      ]
    },
    {
      "cell_type": "markdown",
      "metadata": {
        "id": "IdrFbPfD-LSX"
      },
      "source": [
        "## Model Training"
      ]
    },
    {
      "cell_type": "code",
      "execution_count": 224,
      "metadata": {
        "colab": {
          "base_uri": "https://localhost:8080/"
        },
        "id": "hdus1RA4-OIB",
        "outputId": "4976e332-d209-4d5c-95b9-b4a30470f7f6"
      },
      "outputs": [
        {
          "name": "stdout",
          "output_type": "stream",
          "text": [
            "Epoch 1/30\n",
            "2670/2670 [==============================] - 7s 3ms/step - loss: 0.5884 - accuracy: 0.7089 - val_loss: 0.5272 - val_accuracy: 0.7475\n",
            "Epoch 2/30\n",
            "2670/2670 [==============================] - 7s 2ms/step - loss: 0.5192 - accuracy: 0.7546 - val_loss: 0.5156 - val_accuracy: 0.7485\n",
            "Epoch 3/30\n",
            "2670/2670 [==============================] - 6s 2ms/step - loss: 0.5011 - accuracy: 0.7686 - val_loss: 0.4972 - val_accuracy: 0.7712\n",
            "Epoch 4/30\n",
            "2670/2670 [==============================] - 6s 2ms/step - loss: 0.4722 - accuracy: 0.7900 - val_loss: 0.4247 - val_accuracy: 0.8094\n",
            "Epoch 5/30\n",
            "2670/2670 [==============================] - 6s 2ms/step - loss: 0.3650 - accuracy: 0.8503 - val_loss: 0.3570 - val_accuracy: 0.8491\n",
            "Epoch 6/30\n",
            "2670/2670 [==============================] - 6s 2ms/step - loss: 0.3274 - accuracy: 0.8674 - val_loss: 0.3188 - val_accuracy: 0.8739\n",
            "Epoch 7/30\n",
            "2670/2670 [==============================] - 6s 2ms/step - loss: 0.3149 - accuracy: 0.8719 - val_loss: 0.3076 - val_accuracy: 0.8797\n",
            "Epoch 8/30\n",
            "2670/2670 [==============================] - 7s 2ms/step - loss: 0.3064 - accuracy: 0.8737 - val_loss: 0.3061 - val_accuracy: 0.8780\n",
            "Epoch 9/30\n",
            "2670/2670 [==============================] - 6s 2ms/step - loss: 0.3016 - accuracy: 0.8749 - val_loss: 0.3036 - val_accuracy: 0.8803\n",
            "Epoch 10/30\n",
            "2670/2670 [==============================] - 7s 2ms/step - loss: 0.2973 - accuracy: 0.8754 - val_loss: 0.3006 - val_accuracy: 0.8695\n",
            "Epoch 11/30\n",
            "2670/2670 [==============================] - 6s 2ms/step - loss: 0.2957 - accuracy: 0.8745 - val_loss: 0.2917 - val_accuracy: 0.8792\n",
            "Epoch 12/30\n",
            "2670/2670 [==============================] - 6s 2ms/step - loss: 0.2873 - accuracy: 0.8795 - val_loss: 0.2797 - val_accuracy: 0.8831\n",
            "Epoch 13/30\n",
            "2670/2670 [==============================] - 6s 2ms/step - loss: 0.2783 - accuracy: 0.8859 - val_loss: 0.2682 - val_accuracy: 0.8920\n",
            "Epoch 14/30\n",
            "2670/2670 [==============================] - 6s 2ms/step - loss: 0.2648 - accuracy: 0.8913 - val_loss: 0.2586 - val_accuracy: 0.9022\n",
            "Epoch 15/30\n",
            "2670/2670 [==============================] - 8s 3ms/step - loss: 0.2479 - accuracy: 0.9012 - val_loss: 0.2390 - val_accuracy: 0.9075\n",
            "Epoch 16/30\n",
            "2670/2670 [==============================] - 7s 3ms/step - loss: 0.2328 - accuracy: 0.9076 - val_loss: 0.2264 - val_accuracy: 0.9096\n",
            "Epoch 17/30\n",
            "2670/2670 [==============================] - 7s 3ms/step - loss: 0.2216 - accuracy: 0.9119 - val_loss: 0.2190 - val_accuracy: 0.9128\n",
            "Epoch 18/30\n",
            "2670/2670 [==============================] - 7s 3ms/step - loss: 0.2134 - accuracy: 0.9164 - val_loss: 0.2082 - val_accuracy: 0.9138\n",
            "Epoch 19/30\n",
            "2670/2670 [==============================] - 7s 3ms/step - loss: 0.2068 - accuracy: 0.9175 - val_loss: 0.2057 - val_accuracy: 0.9194\n",
            "Epoch 20/30\n",
            "2670/2670 [==============================] - 7s 3ms/step - loss: 0.2021 - accuracy: 0.9205 - val_loss: 0.2018 - val_accuracy: 0.9194\n",
            "Epoch 21/30\n",
            "2670/2670 [==============================] - 7s 3ms/step - loss: 0.1989 - accuracy: 0.9214 - val_loss: 0.1975 - val_accuracy: 0.9202\n",
            "Epoch 22/30\n",
            "2670/2670 [==============================] - 7s 3ms/step - loss: 0.1967 - accuracy: 0.9222 - val_loss: 0.1939 - val_accuracy: 0.9257\n",
            "Epoch 23/30\n",
            "2670/2670 [==============================] - 7s 3ms/step - loss: 0.1934 - accuracy: 0.9231 - val_loss: 0.1951 - val_accuracy: 0.9217\n",
            "Epoch 24/30\n",
            "2670/2670 [==============================] - 7s 3ms/step - loss: 0.1906 - accuracy: 0.9255 - val_loss: 0.1898 - val_accuracy: 0.9219\n",
            "Epoch 25/30\n",
            "2670/2670 [==============================] - 8s 3ms/step - loss: 0.1893 - accuracy: 0.9256 - val_loss: 0.1898 - val_accuracy: 0.9215\n",
            "Epoch 26/30\n",
            "2670/2670 [==============================] - 7s 3ms/step - loss: 0.1881 - accuracy: 0.9256 - val_loss: 0.1891 - val_accuracy: 0.9236\n",
            "Epoch 27/30\n",
            "2670/2670 [==============================] - 8s 3ms/step - loss: 0.1867 - accuracy: 0.9254 - val_loss: 0.1934 - val_accuracy: 0.9223\n",
            "Epoch 28/30\n",
            "2670/2670 [==============================] - 7s 3ms/step - loss: 0.1860 - accuracy: 0.9247 - val_loss: 0.1946 - val_accuracy: 0.9194\n",
            "Epoch 29/30\n",
            "2670/2670 [==============================] - 7s 3ms/step - loss: 0.1847 - accuracy: 0.9269 - val_loss: 0.1942 - val_accuracy: 0.9223\n",
            "Epoch 30/30\n",
            "2670/2670 [==============================] - 7s 2ms/step - loss: 0.1835 - accuracy: 0.9257 - val_loss: 0.1869 - val_accuracy: 0.9266\n"
          ]
        }
      ],
      "source": [
        "# Train the Model\n",
        "\n",
        "history_func = model_functional.fit(X_train,\n",
        "                                    y_train,\n",
        "                                    epochs=30,\n",
        "                                    validation_data=(X_val, y_val),\n",
        "                                    batch_size=10)"
      ]
    },
    {
      "cell_type": "markdown",
      "metadata": {},
      "source": [
        "## Model Improvement"
      ]
    },
    {
      "cell_type": "code",
      "execution_count": 225,
      "metadata": {},
      "outputs": [],
      "source": [
        "# Clear Session\n",
        "\n",
        "seed = 20\n",
        "tf.keras.backend.clear_session()\n",
        "np.random.seed(seed)\n",
        "tf.random.set_seed(seed)"
      ]
    },
    {
      "cell_type": "code",
      "execution_count": 226,
      "metadata": {},
      "outputs": [
        {
          "name": "stdout",
          "output_type": "stream",
          "text": [
            "Model: \"model\"\n",
            "__________________________________________________________________________________________________\n",
            " Layer (type)                   Output Shape         Param #     Connected to                     \n",
            "==================================================================================================\n",
            " input_1 (InputLayer)           [(None, 15)]         0           []                               \n",
            "                                                                                                  \n",
            " dense (Dense)                  (None, 16)           256         ['input_1[0][0]']                \n",
            "                                                                                                  \n",
            " dense_1 (Dense)                (None, 8)            136         ['dense[0][0]']                  \n",
            "                                                                                                  \n",
            " dense_2 (Dense)                (None, 4)            36          ['dense_1[0][0]']                \n",
            "                                                                                                  \n",
            " concatenate (Concatenate)      (None, 19)           0           ['input_1[0][0]',                \n",
            "                                                                  'dense_2[0][0]']                \n",
            "                                                                                                  \n",
            " dense_3 (Dense)                (None, 1)            20          ['concatenate[0][0]']            \n",
            "                                                                                                  \n",
            "==================================================================================================\n",
            "Total params: 448\n",
            "Trainable params: 448\n",
            "Non-trainable params: 0\n",
            "__________________________________________________________________________________________________\n"
          ]
        }
      ],
      "source": [
        "# Create Functional Model\n",
        "\n",
        "input_layer = Input(shape=(15,))\n",
        "hidden_layer_1 = Dense(16, activation='relu', kernel_initializer=tf.keras.initializers.HeNormal(seed))(input_layer)\n",
        "hidden_layer_2 = Dense(8, activation='relu', kernel_initializer=tf.keras.initializers.HeNormal(seed))(hidden_layer_1)\n",
        "hidden_layer_3 = Dense(4, activation='relu', kernel_initializer=tf.keras.initializers.HeNormal(seed))(hidden_layer_2)\n",
        "\n",
        "concat_layer = concatenate([input_layer, hidden_layer_3])\n",
        "output_layer = Dense(1, activation='sigmoid', kernel_initializer=tf.keras.initializers.GlorotNormal(seed))(concat_layer)\n",
        "\n",
        "model_functional2 = Model(inputs=input_layer, outputs=output_layer)\n",
        "\n",
        "# Compile\n",
        "model_functional2.compile(loss='binary_crossentropy',\n",
        "                         optimizer='adam',\n",
        "                         metrics='accuracy')\n",
        "model_functional2.summary()"
      ]
    },
    {
      "cell_type": "code",
      "execution_count": 227,
      "metadata": {},
      "outputs": [
        {
          "data": {
            "image/png": "[encoded data removed]",
            "text/plain": [
              "<IPython.core.display.Image object>"
            ]
          },
          "execution_count": 227,
          "metadata": {},
          "output_type": "execute_result"
        }
      ],
      "source": [
        "# Plot Layers\n",
        "\n",
        "tf.keras.utils.plot_model(model_functional2, show_shapes=True)"
      ]
    },
    {
      "cell_type": "code",
      "execution_count": 228,
      "metadata": {},
      "outputs": [
        {
          "name": "stdout",
          "output_type": "stream",
          "text": [
            "Epoch 1/30\n",
            "2670/2670 [==============================] - 8s 3ms/step - loss: 0.5999 - accuracy: 0.7071 - val_loss: 0.5231 - val_accuracy: 0.7475\n",
            "Epoch 2/30\n",
            "2670/2670 [==============================] - 7s 3ms/step - loss: 0.5139 - accuracy: 0.7591 - val_loss: 0.5164 - val_accuracy: 0.7513\n",
            "Epoch 3/30\n",
            "2670/2670 [==============================] - 7s 3ms/step - loss: 0.4978 - accuracy: 0.7704 - val_loss: 0.4943 - val_accuracy: 0.7738\n",
            "Epoch 4/30\n",
            "2670/2670 [==============================] - 7s 3ms/step - loss: 0.4557 - accuracy: 0.7957 - val_loss: 0.4147 - val_accuracy: 0.8137\n",
            "Epoch 5/30\n",
            "2670/2670 [==============================] - 7s 3ms/step - loss: 0.3692 - accuracy: 0.8501 - val_loss: 0.3511 - val_accuracy: 0.8466\n",
            "Epoch 6/30\n",
            "2670/2670 [==============================] - 7s 3ms/step - loss: 0.3265 - accuracy: 0.8669 - val_loss: 0.3135 - val_accuracy: 0.8788\n",
            "Epoch 7/30\n",
            "2670/2670 [==============================] - 7s 3ms/step - loss: 0.3074 - accuracy: 0.8747 - val_loss: 0.3036 - val_accuracy: 0.8784\n",
            "Epoch 8/30\n",
            "2670/2670 [==============================] - 7s 3ms/step - loss: 0.2963 - accuracy: 0.8786 - val_loss: 0.2917 - val_accuracy: 0.8767\n",
            "Epoch 9/30\n",
            "2670/2670 [==============================] - 7s 3ms/step - loss: 0.2861 - accuracy: 0.8809 - val_loss: 0.2828 - val_accuracy: 0.8852\n",
            "Epoch 10/30\n",
            "2670/2670 [==============================] - 7s 3ms/step - loss: 0.2757 - accuracy: 0.8858 - val_loss: 0.2795 - val_accuracy: 0.8826\n",
            "Epoch 11/30\n",
            "2670/2670 [==============================] - 7s 3ms/step - loss: 0.2665 - accuracy: 0.8887 - val_loss: 0.2649 - val_accuracy: 0.8960\n",
            "Epoch 12/30\n",
            "2670/2670 [==============================] - 8s 3ms/step - loss: 0.2560 - accuracy: 0.8938 - val_loss: 0.2677 - val_accuracy: 0.8918\n",
            "Epoch 13/30\n",
            "2670/2670 [==============================] - 8s 3ms/step - loss: 0.2479 - accuracy: 0.8999 - val_loss: 0.2451 - val_accuracy: 0.9028\n",
            "Epoch 14/30\n",
            "2670/2670 [==============================] - 8s 3ms/step - loss: 0.2406 - accuracy: 0.9040 - val_loss: 0.2424 - val_accuracy: 0.9039\n",
            "Epoch 15/30\n",
            "2670/2670 [==============================] - 8s 3ms/step - loss: 0.2346 - accuracy: 0.9066 - val_loss: 0.2369 - val_accuracy: 0.9100\n",
            "Epoch 16/30\n",
            "2670/2670 [==============================] - 8s 3ms/step - loss: 0.2263 - accuracy: 0.9113 - val_loss: 0.2346 - val_accuracy: 0.9104\n",
            "Epoch 17/30\n",
            "2670/2670 [==============================] - 8s 3ms/step - loss: 0.2190 - accuracy: 0.9140 - val_loss: 0.2317 - val_accuracy: 0.9117\n",
            "Epoch 18/30\n",
            "2670/2670 [==============================] - 8s 3ms/step - loss: 0.2102 - accuracy: 0.9175 - val_loss: 0.2112 - val_accuracy: 0.9172\n",
            "Epoch 19/30\n",
            "2670/2670 [==============================] - 8s 3ms/step - loss: 0.2043 - accuracy: 0.9213 - val_loss: 0.2120 - val_accuracy: 0.9194\n",
            "Epoch 20/30\n",
            "2670/2670 [==============================] - 8s 3ms/step - loss: 0.2012 - accuracy: 0.9204 - val_loss: 0.2048 - val_accuracy: 0.9211\n",
            "Epoch 21/30\n",
            "2670/2670 [==============================] - 8s 3ms/step - loss: 0.1981 - accuracy: 0.9217 - val_loss: 0.2024 - val_accuracy: 0.9200\n",
            "Epoch 22/30\n",
            "2670/2670 [==============================] - 8s 3ms/step - loss: 0.1960 - accuracy: 0.9225 - val_loss: 0.1997 - val_accuracy: 0.9251\n",
            "Epoch 23/30\n",
            "2670/2670 [==============================] - 8s 3ms/step - loss: 0.1937 - accuracy: 0.9232 - val_loss: 0.1988 - val_accuracy: 0.9257\n",
            "Epoch 24/30\n",
            "2670/2670 [==============================] - 8s 3ms/step - loss: 0.1920 - accuracy: 0.9232 - val_loss: 0.1936 - val_accuracy: 0.9289\n",
            "Epoch 25/30\n",
            "2670/2670 [==============================] - 8s 3ms/step - loss: 0.1909 - accuracy: 0.9250 - val_loss: 0.1977 - val_accuracy: 0.9240\n",
            "Epoch 26/30\n",
            "2670/2670 [==============================] - 8s 3ms/step - loss: 0.1903 - accuracy: 0.9254 - val_loss: 0.1890 - val_accuracy: 0.9302\n",
            "Epoch 27/30\n",
            "2670/2670 [==============================] - 8s 3ms/step - loss: 0.1892 - accuracy: 0.9253 - val_loss: 0.1930 - val_accuracy: 0.9247\n",
            "Epoch 28/30\n",
            "2670/2670 [==============================] - 8s 3ms/step - loss: 0.1872 - accuracy: 0.9267 - val_loss: 0.2057 - val_accuracy: 0.9194\n",
            "Epoch 29/30\n",
            "2670/2670 [==============================] - 8s 3ms/step - loss: 0.1874 - accuracy: 0.9269 - val_loss: 0.1977 - val_accuracy: 0.9215\n",
            "Epoch 30/30\n",
            "2670/2670 [==============================] - 8s 3ms/step - loss: 0.1864 - accuracy: 0.9269 - val_loss: 0.1924 - val_accuracy: 0.9264\n"
          ]
        }
      ],
      "source": [
        "# Train the Model\n",
        "\n",
        "history_func2 = model_functional2.fit(X_train,\n",
        "                                    y_train,\n",
        "                                    epochs=30,\n",
        "                                    validation_data=(X_val, y_val),\n",
        "                                    batch_size=10)"
      ]
    },
    {
      "cell_type": "markdown",
      "metadata": {
        "id": "Ri4m0czw-h_y"
      },
      "source": [
        "## Model Evaluation"
      ]
    },
    {
      "cell_type": "code",
      "execution_count": 229,
      "metadata": {
        "colab": {
          "base_uri": "https://localhost:8080/",
          "height": 677
        },
        "id": "pBbuKuZJ-l8L",
        "outputId": "76cda3f2-95da-4818-98cb-551ee0d06cc5"
      },
      "outputs": [
        {
          "data": {
            "text/html": [
              "<div>\n",
              "<style scoped>\n",
              "    .dataframe tbody tr th:only-of-type {\n",
              "        vertical-align: middle;\n",
              "    }\n",
              "\n",
              "    .dataframe tbody tr th {\n",
              "        vertical-align: top;\n",
              "    }\n",
              "\n",
              "    .dataframe thead th {\n",
              "        text-align: right;\n",
              "    }\n",
              "</style>\n",
              "<table border=\"1\" class=\"dataframe\">\n",
              "  <thead>\n",
              "    <tr style=\"text-align: right;\">\n",
              "      <th></th>\n",
              "      <th>loss</th>\n",
              "      <th>accuracy</th>\n",
              "      <th>val_loss</th>\n",
              "      <th>val_accuracy</th>\n",
              "    </tr>\n",
              "  </thead>\n",
              "  <tbody>\n",
              "    <tr>\n",
              "      <th>0</th>\n",
              "      <td>0.588422</td>\n",
              "      <td>0.708945</td>\n",
              "      <td>0.527168</td>\n",
              "      <td>0.747453</td>\n",
              "    </tr>\n",
              "    <tr>\n",
              "      <th>1</th>\n",
              "      <td>0.519225</td>\n",
              "      <td>0.754607</td>\n",
              "      <td>0.515565</td>\n",
              "      <td>0.748514</td>\n",
              "    </tr>\n",
              "    <tr>\n",
              "      <th>2</th>\n",
              "      <td>0.501148</td>\n",
              "      <td>0.768580</td>\n",
              "      <td>0.497218</td>\n",
              "      <td>0.771222</td>\n",
              "    </tr>\n",
              "    <tr>\n",
              "      <th>3</th>\n",
              "      <td>0.472174</td>\n",
              "      <td>0.789969</td>\n",
              "      <td>0.424675</td>\n",
              "      <td>0.809423</td>\n",
              "    </tr>\n",
              "    <tr>\n",
              "      <th>4</th>\n",
              "      <td>0.364960</td>\n",
              "      <td>0.850315</td>\n",
              "      <td>0.356954</td>\n",
              "      <td>0.849109</td>\n",
              "    </tr>\n",
              "    <tr>\n",
              "      <th>5</th>\n",
              "      <td>0.327405</td>\n",
              "      <td>0.867433</td>\n",
              "      <td>0.318784</td>\n",
              "      <td>0.873939</td>\n",
              "    </tr>\n",
              "    <tr>\n",
              "      <th>6</th>\n",
              "      <td>0.314908</td>\n",
              "      <td>0.871928</td>\n",
              "      <td>0.307630</td>\n",
              "      <td>0.879669</td>\n",
              "    </tr>\n",
              "    <tr>\n",
              "      <th>7</th>\n",
              "      <td>0.306419</td>\n",
              "      <td>0.873652</td>\n",
              "      <td>0.306109</td>\n",
              "      <td>0.877971</td>\n",
              "    </tr>\n",
              "    <tr>\n",
              "      <th>8</th>\n",
              "      <td>0.301645</td>\n",
              "      <td>0.874850</td>\n",
              "      <td>0.303569</td>\n",
              "      <td>0.880306</td>\n",
              "    </tr>\n",
              "    <tr>\n",
              "      <th>9</th>\n",
              "      <td>0.297316</td>\n",
              "      <td>0.875449</td>\n",
              "      <td>0.300602</td>\n",
              "      <td>0.869482</td>\n",
              "    </tr>\n",
              "    <tr>\n",
              "      <th>10</th>\n",
              "      <td>0.295677</td>\n",
              "      <td>0.874476</td>\n",
              "      <td>0.291715</td>\n",
              "      <td>0.879245</td>\n",
              "    </tr>\n",
              "    <tr>\n",
              "      <th>11</th>\n",
              "      <td>0.287300</td>\n",
              "      <td>0.879533</td>\n",
              "      <td>0.279659</td>\n",
              "      <td>0.883065</td>\n",
              "    </tr>\n",
              "    <tr>\n",
              "      <th>12</th>\n",
              "      <td>0.278350</td>\n",
              "      <td>0.885863</td>\n",
              "      <td>0.268170</td>\n",
              "      <td>0.891978</td>\n",
              "    </tr>\n",
              "    <tr>\n",
              "      <th>13</th>\n",
              "      <td>0.264848</td>\n",
              "      <td>0.891332</td>\n",
              "      <td>0.258638</td>\n",
              "      <td>0.902165</td>\n",
              "    </tr>\n",
              "    <tr>\n",
              "      <th>14</th>\n",
              "      <td>0.247907</td>\n",
              "      <td>0.901221</td>\n",
              "      <td>0.239036</td>\n",
              "      <td>0.907470</td>\n",
              "    </tr>\n",
              "    <tr>\n",
              "      <th>15</th>\n",
              "      <td>0.232759</td>\n",
              "      <td>0.907552</td>\n",
              "      <td>0.226358</td>\n",
              "      <td>0.909593</td>\n",
              "    </tr>\n",
              "    <tr>\n",
              "      <th>16</th>\n",
              "      <td>0.221616</td>\n",
              "      <td>0.911859</td>\n",
              "      <td>0.219048</td>\n",
              "      <td>0.912776</td>\n",
              "    </tr>\n",
              "    <tr>\n",
              "      <th>17</th>\n",
              "      <td>0.213353</td>\n",
              "      <td>0.916392</td>\n",
              "      <td>0.208190</td>\n",
              "      <td>0.913837</td>\n",
              "    </tr>\n",
              "    <tr>\n",
              "      <th>18</th>\n",
              "      <td>0.206822</td>\n",
              "      <td>0.917516</td>\n",
              "      <td>0.205746</td>\n",
              "      <td>0.919355</td>\n",
              "    </tr>\n",
              "    <tr>\n",
              "      <th>19</th>\n",
              "      <td>0.202144</td>\n",
              "      <td>0.920550</td>\n",
              "      <td>0.201790</td>\n",
              "      <td>0.919355</td>\n",
              "    </tr>\n",
              "    <tr>\n",
              "      <th>20</th>\n",
              "      <td>0.198870</td>\n",
              "      <td>0.921449</td>\n",
              "      <td>0.197455</td>\n",
              "      <td>0.920204</td>\n",
              "    </tr>\n",
              "    <tr>\n",
              "      <th>21</th>\n",
              "      <td>0.196695</td>\n",
              "      <td>0.922161</td>\n",
              "      <td>0.193901</td>\n",
              "      <td>0.925722</td>\n",
              "    </tr>\n",
              "    <tr>\n",
              "      <th>22</th>\n",
              "      <td>0.193413</td>\n",
              "      <td>0.923097</td>\n",
              "      <td>0.195092</td>\n",
              "      <td>0.921689</td>\n",
              "    </tr>\n",
              "    <tr>\n",
              "      <th>23</th>\n",
              "      <td>0.190610</td>\n",
              "      <td>0.925532</td>\n",
              "      <td>0.189799</td>\n",
              "      <td>0.921902</td>\n",
              "    </tr>\n",
              "    <tr>\n",
              "      <th>24</th>\n",
              "      <td>0.189296</td>\n",
              "      <td>0.925607</td>\n",
              "      <td>0.189810</td>\n",
              "      <td>0.921477</td>\n",
              "    </tr>\n",
              "    <tr>\n",
              "      <th>25</th>\n",
              "      <td>0.188058</td>\n",
              "      <td>0.925569</td>\n",
              "      <td>0.189057</td>\n",
              "      <td>0.923599</td>\n",
              "    </tr>\n",
              "    <tr>\n",
              "      <th>26</th>\n",
              "      <td>0.186745</td>\n",
              "      <td>0.925420</td>\n",
              "      <td>0.193352</td>\n",
              "      <td>0.922326</td>\n",
              "    </tr>\n",
              "    <tr>\n",
              "      <th>27</th>\n",
              "      <td>0.185959</td>\n",
              "      <td>0.924670</td>\n",
              "      <td>0.194592</td>\n",
              "      <td>0.919355</td>\n",
              "    </tr>\n",
              "    <tr>\n",
              "      <th>28</th>\n",
              "      <td>0.184743</td>\n",
              "      <td>0.926918</td>\n",
              "      <td>0.194202</td>\n",
              "      <td>0.922326</td>\n",
              "    </tr>\n",
              "    <tr>\n",
              "      <th>29</th>\n",
              "      <td>0.183532</td>\n",
              "      <td>0.925682</td>\n",
              "      <td>0.186863</td>\n",
              "      <td>0.926570</td>\n",
              "    </tr>\n",
              "  </tbody>\n",
              "</table>\n",
              "</div>"
            ],
            "text/plain": [
              "        loss  accuracy  val_loss  val_accuracy\n",
              "0   0.588422  0.708945  0.527168      0.747453\n",
              "1   0.519225  0.754607  0.515565      0.748514\n",
              "2   0.501148  0.768580  0.497218      0.771222\n",
              "3   0.472174  0.789969  0.424675      0.809423\n",
              "4   0.364960  0.850315  0.356954      0.849109\n",
              "5   0.327405  0.867433  0.318784      0.873939\n",
              "6   0.314908  0.871928  0.307630      0.879669\n",
              "7   0.306419  0.873652  0.306109      0.877971\n",
              "8   0.301645  0.874850  0.303569      0.880306\n",
              "9   0.297316  0.875449  0.300602      0.869482\n",
              "10  0.295677  0.874476  0.291715      0.879245\n",
              "11  0.287300  0.879533  0.279659      0.883065\n",
              "12  0.278350  0.885863  0.268170      0.891978\n",
              "13  0.264848  0.891332  0.258638      0.902165\n",
              "14  0.247907  0.901221  0.239036      0.907470\n",
              "15  0.232759  0.907552  0.226358      0.909593\n",
              "16  0.221616  0.911859  0.219048      0.912776\n",
              "17  0.213353  0.916392  0.208190      0.913837\n",
              "18  0.206822  0.917516  0.205746      0.919355\n",
              "19  0.202144  0.920550  0.201790      0.919355\n",
              "20  0.198870  0.921449  0.197455      0.920204\n",
              "21  0.196695  0.922161  0.193901      0.925722\n",
              "22  0.193413  0.923097  0.195092      0.921689\n",
              "23  0.190610  0.925532  0.189799      0.921902\n",
              "24  0.189296  0.925607  0.189810      0.921477\n",
              "25  0.188058  0.925569  0.189057      0.923599\n",
              "26  0.186745  0.925420  0.193352      0.922326\n",
              "27  0.185959  0.924670  0.194592      0.919355\n",
              "28  0.184743  0.926918  0.194202      0.922326\n",
              "29  0.183532  0.925682  0.186863      0.926570"
            ]
          },
          "execution_count": 229,
          "metadata": {},
          "output_type": "execute_result"
        }
      ],
      "source": [
        "# Create DataFrame\n",
        "\n",
        "history_func_df = pd.DataFrame(history_func.history)\n",
        "history_func_df"
      ]
    },
    {
      "cell_type": "code",
      "execution_count": 230,
      "metadata": {},
      "outputs": [
        {
          "data": {
            "text/html": [
              "<div>\n",
              "<style scoped>\n",
              "    .dataframe tbody tr th:only-of-type {\n",
              "        vertical-align: middle;\n",
              "    }\n",
              "\n",
              "    .dataframe tbody tr th {\n",
              "        vertical-align: top;\n",
              "    }\n",
              "\n",
              "    .dataframe thead th {\n",
              "        text-align: right;\n",
              "    }\n",
              "</style>\n",
              "<table border=\"1\" class=\"dataframe\">\n",
              "  <thead>\n",
              "    <tr style=\"text-align: right;\">\n",
              "      <th></th>\n",
              "      <th>loss</th>\n",
              "      <th>accuracy</th>\n",
              "      <th>val_loss</th>\n",
              "      <th>val_accuracy</th>\n",
              "    </tr>\n",
              "  </thead>\n",
              "  <tbody>\n",
              "    <tr>\n",
              "      <th>0</th>\n",
              "      <td>0.599940</td>\n",
              "      <td>0.707147</td>\n",
              "      <td>0.523130</td>\n",
              "      <td>0.747453</td>\n",
              "    </tr>\n",
              "    <tr>\n",
              "      <th>1</th>\n",
              "      <td>0.513896</td>\n",
              "      <td>0.759140</td>\n",
              "      <td>0.516368</td>\n",
              "      <td>0.751273</td>\n",
              "    </tr>\n",
              "    <tr>\n",
              "      <th>2</th>\n",
              "      <td>0.497809</td>\n",
              "      <td>0.770415</td>\n",
              "      <td>0.494320</td>\n",
              "      <td>0.773769</td>\n",
              "    </tr>\n",
              "    <tr>\n",
              "      <th>3</th>\n",
              "      <td>0.455690</td>\n",
              "      <td>0.795700</td>\n",
              "      <td>0.414729</td>\n",
              "      <td>0.813667</td>\n",
              "    </tr>\n",
              "    <tr>\n",
              "      <th>4</th>\n",
              "      <td>0.369243</td>\n",
              "      <td>0.850127</td>\n",
              "      <td>0.351100</td>\n",
              "      <td>0.846562</td>\n",
              "    </tr>\n",
              "    <tr>\n",
              "      <th>5</th>\n",
              "      <td>0.326478</td>\n",
              "      <td>0.866909</td>\n",
              "      <td>0.313453</td>\n",
              "      <td>0.878820</td>\n",
              "    </tr>\n",
              "    <tr>\n",
              "      <th>6</th>\n",
              "      <td>0.307411</td>\n",
              "      <td>0.874738</td>\n",
              "      <td>0.303590</td>\n",
              "      <td>0.878396</td>\n",
              "    </tr>\n",
              "    <tr>\n",
              "      <th>7</th>\n",
              "      <td>0.296265</td>\n",
              "      <td>0.878596</td>\n",
              "      <td>0.291738</td>\n",
              "      <td>0.876698</td>\n",
              "    </tr>\n",
              "    <tr>\n",
              "      <th>8</th>\n",
              "      <td>0.286056</td>\n",
              "      <td>0.880919</td>\n",
              "      <td>0.282826</td>\n",
              "      <td>0.885187</td>\n",
              "    </tr>\n",
              "    <tr>\n",
              "      <th>9</th>\n",
              "      <td>0.275711</td>\n",
              "      <td>0.885751</td>\n",
              "      <td>0.279476</td>\n",
              "      <td>0.882640</td>\n",
              "    </tr>\n",
              "    <tr>\n",
              "      <th>10</th>\n",
              "      <td>0.266545</td>\n",
              "      <td>0.888710</td>\n",
              "      <td>0.264897</td>\n",
              "      <td>0.896010</td>\n",
              "    </tr>\n",
              "    <tr>\n",
              "      <th>11</th>\n",
              "      <td>0.256021</td>\n",
              "      <td>0.893767</td>\n",
              "      <td>0.267707</td>\n",
              "      <td>0.891766</td>\n",
              "    </tr>\n",
              "    <tr>\n",
              "      <th>12</th>\n",
              "      <td>0.247948</td>\n",
              "      <td>0.899948</td>\n",
              "      <td>0.245064</td>\n",
              "      <td>0.902801</td>\n",
              "    </tr>\n",
              "    <tr>\n",
              "      <th>13</th>\n",
              "      <td>0.240590</td>\n",
              "      <td>0.903956</td>\n",
              "      <td>0.242377</td>\n",
              "      <td>0.903862</td>\n",
              "    </tr>\n",
              "    <tr>\n",
              "      <th>14</th>\n",
              "      <td>0.234644</td>\n",
              "      <td>0.906615</td>\n",
              "      <td>0.236870</td>\n",
              "      <td>0.910017</td>\n",
              "    </tr>\n",
              "    <tr>\n",
              "      <th>15</th>\n",
              "      <td>0.226342</td>\n",
              "      <td>0.911335</td>\n",
              "      <td>0.234596</td>\n",
              "      <td>0.910441</td>\n",
              "    </tr>\n",
              "    <tr>\n",
              "      <th>16</th>\n",
              "      <td>0.218975</td>\n",
              "      <td>0.913995</td>\n",
              "      <td>0.231722</td>\n",
              "      <td>0.911715</td>\n",
              "    </tr>\n",
              "    <tr>\n",
              "      <th>17</th>\n",
              "      <td>0.210187</td>\n",
              "      <td>0.917478</td>\n",
              "      <td>0.211228</td>\n",
              "      <td>0.917233</td>\n",
              "    </tr>\n",
              "    <tr>\n",
              "      <th>18</th>\n",
              "      <td>0.204321</td>\n",
              "      <td>0.921337</td>\n",
              "      <td>0.212015</td>\n",
              "      <td>0.919355</td>\n",
              "    </tr>\n",
              "    <tr>\n",
              "      <th>19</th>\n",
              "      <td>0.201153</td>\n",
              "      <td>0.920363</td>\n",
              "      <td>0.204848</td>\n",
              "      <td>0.921053</td>\n",
              "    </tr>\n",
              "    <tr>\n",
              "      <th>20</th>\n",
              "      <td>0.198096</td>\n",
              "      <td>0.921711</td>\n",
              "      <td>0.202374</td>\n",
              "      <td>0.919991</td>\n",
              "    </tr>\n",
              "    <tr>\n",
              "      <th>21</th>\n",
              "      <td>0.196044</td>\n",
              "      <td>0.922498</td>\n",
              "      <td>0.199719</td>\n",
              "      <td>0.925085</td>\n",
              "    </tr>\n",
              "    <tr>\n",
              "      <th>22</th>\n",
              "      <td>0.193690</td>\n",
              "      <td>0.923247</td>\n",
              "      <td>0.198816</td>\n",
              "      <td>0.925722</td>\n",
              "    </tr>\n",
              "    <tr>\n",
              "      <th>23</th>\n",
              "      <td>0.191988</td>\n",
              "      <td>0.923247</td>\n",
              "      <td>0.193644</td>\n",
              "      <td>0.928905</td>\n",
              "    </tr>\n",
              "    <tr>\n",
              "      <th>24</th>\n",
              "      <td>0.190917</td>\n",
              "      <td>0.925007</td>\n",
              "      <td>0.197700</td>\n",
              "      <td>0.924024</td>\n",
              "    </tr>\n",
              "    <tr>\n",
              "      <th>25</th>\n",
              "      <td>0.190345</td>\n",
              "      <td>0.925420</td>\n",
              "      <td>0.188950</td>\n",
              "      <td>0.930178</td>\n",
              "    </tr>\n",
              "    <tr>\n",
              "      <th>26</th>\n",
              "      <td>0.189196</td>\n",
              "      <td>0.925270</td>\n",
              "      <td>0.193013</td>\n",
              "      <td>0.924660</td>\n",
              "    </tr>\n",
              "    <tr>\n",
              "      <th>27</th>\n",
              "      <td>0.187245</td>\n",
              "      <td>0.926731</td>\n",
              "      <td>0.205658</td>\n",
              "      <td>0.919355</td>\n",
              "    </tr>\n",
              "    <tr>\n",
              "      <th>28</th>\n",
              "      <td>0.187377</td>\n",
              "      <td>0.926918</td>\n",
              "      <td>0.197744</td>\n",
              "      <td>0.921477</td>\n",
              "    </tr>\n",
              "    <tr>\n",
              "      <th>29</th>\n",
              "      <td>0.186425</td>\n",
              "      <td>0.926880</td>\n",
              "      <td>0.192356</td>\n",
              "      <td>0.926358</td>\n",
              "    </tr>\n",
              "  </tbody>\n",
              "</table>\n",
              "</div>"
            ],
            "text/plain": [
              "        loss  accuracy  val_loss  val_accuracy\n",
              "0   0.599940  0.707147  0.523130      0.747453\n",
              "1   0.513896  0.759140  0.516368      0.751273\n",
              "2   0.497809  0.770415  0.494320      0.773769\n",
              "3   0.455690  0.795700  0.414729      0.813667\n",
              "4   0.369243  0.850127  0.351100      0.846562\n",
              "5   0.326478  0.866909  0.313453      0.878820\n",
              "6   0.307411  0.874738  0.303590      0.878396\n",
              "7   0.296265  0.878596  0.291738      0.876698\n",
              "8   0.286056  0.880919  0.282826      0.885187\n",
              "9   0.275711  0.885751  0.279476      0.882640\n",
              "10  0.266545  0.888710  0.264897      0.896010\n",
              "11  0.256021  0.893767  0.267707      0.891766\n",
              "12  0.247948  0.899948  0.245064      0.902801\n",
              "13  0.240590  0.903956  0.242377      0.903862\n",
              "14  0.234644  0.906615  0.236870      0.910017\n",
              "15  0.226342  0.911335  0.234596      0.910441\n",
              "16  0.218975  0.913995  0.231722      0.911715\n",
              "17  0.210187  0.917478  0.211228      0.917233\n",
              "18  0.204321  0.921337  0.212015      0.919355\n",
              "19  0.201153  0.920363  0.204848      0.921053\n",
              "20  0.198096  0.921711  0.202374      0.919991\n",
              "21  0.196044  0.922498  0.199719      0.925085\n",
              "22  0.193690  0.923247  0.198816      0.925722\n",
              "23  0.191988  0.923247  0.193644      0.928905\n",
              "24  0.190917  0.925007  0.197700      0.924024\n",
              "25  0.190345  0.925420  0.188950      0.930178\n",
              "26  0.189196  0.925270  0.193013      0.924660\n",
              "27  0.187245  0.926731  0.205658      0.919355\n",
              "28  0.187377  0.926918  0.197744      0.921477\n",
              "29  0.186425  0.926880  0.192356      0.926358"
            ]
          },
          "execution_count": 230,
          "metadata": {},
          "output_type": "execute_result"
        }
      ],
      "source": [
        "history_func2_df = pd.DataFrame(history_func2.history)\n",
        "history_func2_df"
      ]
    },
    {
      "cell_type": "code",
      "execution_count": 231,
      "metadata": {
        "colab": {
          "base_uri": "https://localhost:8080/",
          "height": 862
        },
        "id": "u5f2vzlo-wuL",
        "outputId": "ba581b9d-923a-4818-b002-e48f7614e2d9"
      },
      "outputs": [
        {
          "data": {
            "text/plain": [
              "<Axes: >"
            ]
          },
          "execution_count": 231,
          "metadata": {},
          "output_type": "execute_result"
        },
        {
          "data": {
            "image/png": "[encoded data removed]",
            "text/plain": [
              "<Figure size 640x480 with 1 Axes>"
            ]
          },
          "metadata": {},
          "output_type": "display_data"
        },
        {
          "data": {
            "image/png": "[encoded data removed]",
            "text/plain": [
              "<Figure size 640x480 with 1 Axes>"
            ]
          },
          "metadata": {},
          "output_type": "display_data"
        },
        {
          "data": {
            "image/png": "[encoded data removed]",
            "text/plain": [
              "<Figure size 640x480 with 1 Axes>"
            ]
          },
          "metadata": {},
          "output_type": "display_data"
        },
        {
          "data": {
            "image/png": "[encoded data removed]",
            "text/plain": [
              "<Figure size 640x480 with 1 Axes>"
            ]
          },
          "metadata": {},
          "output_type": "display_data"
        }
      ],
      "source": [
        "# Plot Training Results\n",
        "\n",
        "history_func_df[['accuracy', 'val_accuracy']].plot()\n",
        "history_func_df[['loss', 'val_loss']].plot()\n",
        "history_func2_df[['accuracy', 'val_accuracy']].plot()\n",
        "history_func2_df[['loss', 'val_loss']].plot()"
      ]
    },
    {
      "cell_type": "code",
      "execution_count": 232,
      "metadata": {
        "colab": {
          "base_uri": "https://localhost:8080/"
        },
        "id": "QJBYGVew_A0F",
        "outputId": "56683040-a199-476b-b028-50112ff29a96"
      },
      "outputs": [
        {
          "name": "stdout",
          "output_type": "stream",
          "text": [
            "174/174 [==============================] - 0s 1ms/step\n",
            "174/174 [==============================] - 0s 2ms/step\n",
            "              precision    recall  f1-score   support\n",
            "\n",
            "           0       0.91      0.93      0.92      2574\n",
            "           1       0.94      0.92      0.93      2969\n",
            "\n",
            "    accuracy                           0.92      5543\n",
            "   macro avg       0.92      0.92      0.92      5543\n",
            "weighted avg       0.92      0.92      0.92      5543\n",
            "\n",
            "              precision    recall  f1-score   support\n",
            "\n",
            "           0       0.92      0.92      0.92      2574\n",
            "           1       0.93      0.93      0.93      2969\n",
            "\n",
            "    accuracy                           0.92      5543\n",
            "   macro avg       0.92      0.92      0.92      5543\n",
            "weighted avg       0.92      0.92      0.92      5543\n",
            "\n"
          ]
        }
      ],
      "source": [
        "# Evaluate Test-Set\n",
        "\n",
        "y_pred_func = model_functional.predict(X_test)\n",
        "y_pred_func = np.where(y_pred_func >= 0.5, 1, 0)\n",
        "y_pred_func2 = model_functional2.predict(X_test)\n",
        "y_pred_func2 = np.where(y_pred_func2 >= 0.5, 1, 0)\n",
        "\n",
        "print(classification_report(y_test, y_pred_func))\n",
        "print(classification_report(y_test, y_pred_func2))"
      ]
    },
    {
      "cell_type": "markdown",
      "metadata": {
        "id": "_wLbMtT5_dHS"
      },
      "source": [
        "# Model Saving"
      ]
    },
    {
      "cell_type": "code",
      "execution_count": 233,
      "metadata": {
        "id": "bDl1Y6RD_gmP"
      },
      "outputs": [],
      "source": [
        "# Save Pipeline\n",
        "\n",
        "import pickle\n",
        "\n",
        "with open('final_pipeline.pkl', 'wb') as file_1:\n",
        "  pickle.dump(final_pipeline, file_1)"
      ]
    },
    {
      "cell_type": "code",
      "execution_count": 234,
      "metadata": {
        "colab": {
          "base_uri": "https://localhost:8080/"
        },
        "id": "Vn8ms5_f_vyG",
        "outputId": "d1c64bbc-b2e4-46a3-aa01-580ee530a1d8"
      },
      "outputs": [
        {
          "name": "stdout",
          "output_type": "stream",
          "text": [
            "Model: \"sequential\"\n",
            "_________________________________________________________________\n",
            " Layer (type)                Output Shape              Param #   \n",
            "=================================================================\n",
            " dense (Dense)               (None, 16)                256       \n",
            "                                                                 \n",
            " dense_1 (Dense)             (None, 8)                 136       \n",
            "                                                                 \n",
            " dense_2 (Dense)             (None, 1)                 9         \n",
            "                                                                 \n",
            "=================================================================\n",
            "Total params: 401\n",
            "Trainable params: 401\n",
            "Non-trainable params: 0\n",
            "_________________________________________________________________\n"
          ]
        }
      ],
      "source": [
        "# Model Summary\n",
        "\n",
        "model_sequential.summary()"
      ]
    },
    {
      "cell_type": "code",
      "execution_count": 235,
      "metadata": {
        "colab": {
          "base_uri": "https://localhost:8080/"
        },
        "id": "nmYjMPLT_2UA",
        "outputId": "a1ec3e27-1654-4c45-d062-bec8c36cca2c"
      },
      "outputs": [
        {
          "name": "stdout",
          "output_type": "stream",
          "text": [
            "Model: \"sequential\"\n",
            "_________________________________________________________________\n",
            " Layer (type)                Output Shape              Param #   \n",
            "=================================================================\n",
            " dense (Dense)               (None, 16)                256       \n",
            "                                                                 \n",
            " dense_1 (Dense)             (None, 8)                 136       \n",
            "                                                                 \n",
            " dense_2 (Dense)             (None, 1)                 9         \n",
            "                                                                 \n",
            "=================================================================\n",
            "Total params: 401\n",
            "Trainable params: 0\n",
            "Non-trainable params: 401\n",
            "_________________________________________________________________\n"
          ]
        }
      ],
      "source": [
        "# Freeze Model\n",
        "\n",
        "model_sequential.trainable = False\n",
        "model_sequential.summary()"
      ]
    },
    {
      "cell_type": "code",
      "execution_count": 236,
      "metadata": {
        "id": "T3cCDPDA__sJ"
      },
      "outputs": [],
      "source": [
        "# Save ANN Model\n",
        "\n",
        "model_sequential.save('churn_model.h5')"
      ]
    },
    {
      "cell_type": "markdown",
      "metadata": {},
      "source": [
        "# Model Inference"
      ]
    },
    {
      "cell_type": "markdown",
      "metadata": {},
      "source": [
        "## Load Model"
      ]
    },
    {
      "cell_type": "code",
      "execution_count": 237,
      "metadata": {},
      "outputs": [
        {
          "name": "stdout",
          "output_type": "stream",
          "text": [
            "WARNING:tensorflow:Error in loading the saved optimizer state. As a result, your model is starting with a freshly initialized optimizer.\n"
          ]
        }
      ],
      "source": [
        "# Load All Models\n",
        "\n",
        "with open('final_pipeline.pkl', 'rb') as file_1:\n",
        "  model_pipeline = pickle.load(file_1)\n",
        "\n",
        "model_ann = load_model('churn_model.h5')"
      ]
    },
    {
      "cell_type": "markdown",
      "metadata": {},
      "source": [
        "## Inferencing"
      ]
    },
    {
      "cell_type": "code",
      "execution_count": 238,
      "metadata": {},
      "outputs": [
        {
          "data": {
            "text/html": [
              "<div>\n",
              "<style scoped>\n",
              "    .dataframe tbody tr th:only-of-type {\n",
              "        vertical-align: middle;\n",
              "    }\n",
              "\n",
              "    .dataframe tbody tr th {\n",
              "        vertical-align: top;\n",
              "    }\n",
              "\n",
              "    .dataframe thead th {\n",
              "        text-align: right;\n",
              "    }\n",
              "</style>\n",
              "<table border=\"1\" class=\"dataframe\">\n",
              "  <thead>\n",
              "    <tr style=\"text-align: right;\">\n",
              "      <th></th>\n",
              "      <th>age</th>\n",
              "      <th>gender</th>\n",
              "      <th>membership_category</th>\n",
              "      <th>preferred_offer_types</th>\n",
              "      <th>internet_option</th>\n",
              "      <th>days_since_last_login</th>\n",
              "      <th>avg_time_spent</th>\n",
              "      <th>avg_transaction_value</th>\n",
              "      <th>avg_frequency_login_days</th>\n",
              "      <th>points_in_wallet</th>\n",
              "      <th>used_special_discount</th>\n",
              "      <th>offer_application_preference</th>\n",
              "      <th>past_complaint</th>\n",
              "      <th>complaint_status</th>\n",
              "      <th>feedback</th>\n",
              "    </tr>\n",
              "  </thead>\n",
              "  <tbody>\n",
              "    <tr>\n",
              "      <th>0</th>\n",
              "      <td>36</td>\n",
              "      <td>M</td>\n",
              "      <td>Gold Membership</td>\n",
              "      <td>Without Offers</td>\n",
              "      <td>Fiber_Optic</td>\n",
              "      <td>3</td>\n",
              "      <td>972.776679</td>\n",
              "      <td>26905.49</td>\n",
              "      <td>22.0</td>\n",
              "      <td>700.93</td>\n",
              "      <td>Yes</td>\n",
              "      <td>No</td>\n",
              "      <td>Yes</td>\n",
              "      <td>No Information Available</td>\n",
              "      <td>Poor Customer Service</td>\n",
              "    </tr>\n",
              "  </tbody>\n",
              "</table>\n",
              "</div>"
            ],
            "text/plain": [
              "   age gender membership_category preferred_offer_types internet_option  \\\n",
              "0   36      M     Gold Membership        Without Offers     Fiber_Optic   \n",
              "\n",
              "   days_since_last_login  avg_time_spent  avg_transaction_value  \\\n",
              "0                      3      972.776679               26905.49   \n",
              "\n",
              "   avg_frequency_login_days  points_in_wallet used_special_discount  \\\n",
              "0                      22.0            700.93                   Yes   \n",
              "\n",
              "  offer_application_preference past_complaint          complaint_status  \\\n",
              "0                           No            Yes  No Information Available   \n",
              "\n",
              "                feedback  \n",
              "0  Poor Customer Service  "
            ]
          },
          "execution_count": 238,
          "metadata": {},
          "output_type": "execute_result"
        }
      ],
      "source": [
        "# Create A New Data\n",
        "\n",
        "data_inf = {\n",
        "    'age':36,\n",
        "    'gender': 'M',\n",
        "    'membership_category': 'Gold Membership',\n",
        "    'preferred_offer_types': 'Without Offers',\n",
        "    'internet_option': 'Fiber_Optic',\n",
        "    'days_since_last_login': 3,\n",
        "    'avg_time_spent': 972.776679,\n",
        "    'avg_transaction_value': 26905.49,\n",
        "    'avg_frequency_login_days': 22.0,\n",
        "    'points_in_wallet': 700.93,\n",
        "    'used_special_discount': 'Yes',\n",
        "    'offer_application_preference': 'No',\n",
        "    'past_complaint': 'Yes',\n",
        "    'complaint_status': 'No Information Available',\n",
        "    'feedback': 'Poor Customer Service'\n",
        "}\n",
        "\n",
        "data_inf = pd.DataFrame([data_inf])\n",
        "data_inf"
      ]
    },
    {
      "cell_type": "code",
      "execution_count": 239,
      "metadata": {},
      "outputs": [
        {
          "name": "stdout",
          "output_type": "stream",
          "text": [
            "1/1 [==============================] - 0s 62ms/step\n"
          ]
        },
        {
          "data": {
            "text/plain": [
              "array([[1]])"
            ]
          },
          "execution_count": 239,
          "metadata": {},
          "output_type": "execute_result"
        }
      ],
      "source": [
        "# Predict using ANN\n",
        "\n",
        "data_inf_transform = model_pipeline.transform(data_inf)\n",
        "y_pred_inf = model_ann.predict(data_inf_transform)\n",
        "y_pred_inf = np.where(y_pred_inf >= 0.5, 1, 0)\n",
        "y_pred_inf"
      ]
    },
    {
      "cell_type": "markdown",
      "metadata": {},
      "source": [
        "# Conclusion"
      ]
    },
    {
      "cell_type": "markdown",
      "metadata": {},
      "source": [
        "1. Kedua model ANN yang dibuat memiliki tingkat akurasi dan recall yang sama, dengan akurasi 0.92 dan recall 0.92\n",
        "2. Model yang dibangun sudah dapat memprediksi churn score user dengan tingkat akurasi sebesar 0.92 dan recall sebesar 0.92\n",
        "3. Hasil inferencing didapatkan bahwa model meprediksi data termasuk kedalam churn score 1, dimana sesuai dengan data asli pada frame yaitu data ke 37009\n",
        "4. Setelah dilakukan improvement pada ANN dengan menambahkan satu hidden layer, tidak didapatkan perubahan pada akurasi dan recall"
      ]
    }
  ],
  "metadata": {
    "accelerator": "GPU",
    "colab": {
      "gpuType": "T4",
      "provenance": [],
      "toc_visible": true
    },
    "kernelspec": {
      "display_name": "Python 3",
      "name": "python3"
    },
    "language_info": {
      "codemirror_mode": {
        "name": "ipython",
        "version": 3
      },
      "file_extension": ".py",
      "mimetype": "text/x-python",
      "name": "python",
      "nbconvert_exporter": "python",
      "pygments_lexer": "ipython3",
      "version": "3.9.16"
    }
  },
  "nbformat": 4,
  "nbformat_minor": 0
}
